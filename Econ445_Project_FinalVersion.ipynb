{
 "cells": [
  {
   "cell_type": "markdown",
   "metadata": {
    "id": "5BwghmB6kTcK"
   },
   "source": [
    "# 1. Import Data"
   ]
  },
  {
   "cell_type": "code",
   "execution_count": null,
   "metadata": {
    "id": "wv5r_Ty3dFNb"
   },
   "outputs": [],
   "source": [
    "import pandas as pd\n",
    "\n",
    "df0 = pd.read_csv('https://dev.km2.ai/public/parcels_last.csv', low_memory=False) # 1.5 Gb, 2488394 lines, ~3 minutes\n"
   ]
  },
  {
   "cell_type": "code",
   "execution_count": null,
   "metadata": {
    "colab": {
     "base_uri": "https://localhost:8080/"
    },
    "collapsed": true,
    "id": "KBLRGi8_gcX6",
    "outputId": "cf734e56-8daa-4c9e-c696-b0282a36a016"
   },
   "outputs": [
    {
     "name": "stderr",
     "output_type": "stream",
     "text": [
      "/usr/local/lib/python3.7/dist-packages/ipykernel_launcher.py:5: SettingWithCopyWarning: \n",
      "A value is trying to be set on a copy of a slice from a DataFrame.\n",
      "Try using .loc[row_indexer,col_indexer] = value instead\n",
      "\n",
      "See the caveats in the documentation: https://pandas.pydata.org/pandas-docs/stable/user_guide/indexing.html#returning-a-view-versus-a-copy\n",
      "  \"\"\"\n",
      "/usr/local/lib/python3.7/dist-packages/ipykernel_launcher.py:6: SettingWithCopyWarning: \n",
      "A value is trying to be set on a copy of a slice from a DataFrame.\n",
      "Try using .loc[row_indexer,col_indexer] = value instead\n",
      "\n",
      "See the caveats in the documentation: https://pandas.pydata.org/pandas-docs/stable/user_guide/indexing.html#returning-a-view-versus-a-copy\n",
      "  \n",
      "/usr/local/lib/python3.7/dist-packages/ipykernel_launcher.py:7: SettingWithCopyWarning: \n",
      "A value is trying to be set on a copy of a slice from a DataFrame.\n",
      "Try using .loc[row_indexer,col_indexer] = value instead\n",
      "\n",
      "See the caveats in the documentation: https://pandas.pydata.org/pandas-docs/stable/user_guide/indexing.html#returning-a-view-versus-a-copy\n",
      "  import sys\n"
     ]
    }
   ],
   "source": [
    "df1 = df0[['EffectiveYearBuilt','SQFTmain','Bedrooms','Bathrooms','Units','PropertyType','GeneralUseType','isTaxableParcel','AdministrativeRegion','netTaxableValue']]\n",
    "# drop N.A.\n",
    "import numpy as np\n",
    "import random\n",
    "df1['EffectiveYearBuilt']=df1['EffectiveYearBuilt'].replace(0, np.nan)\n",
    "df1['SQFTmain']=df1['SQFTmain'].replace(0, np.nan)\n",
    "df1['netTaxableValue']=df1['netTaxableValue'].replace(0, np.nan)\n",
    "df1_1 = df1.dropna() \n",
    "df1_2 = df1_1.sample(n=3000) # sample n=3000"
   ]
  },
  {
   "cell_type": "code",
   "execution_count": null,
   "metadata": {
    "colab": {
     "base_uri": "https://localhost:8080/"
    },
    "id": "AJynAq-ffyub",
    "outputId": "99103978-ea6a-427b-d422-0074428a722d"
   },
   "outputs": [
    {
     "name": "stdout",
     "output_type": "stream",
     "text": [
      "Drive already mounted at /content/drive; to attempt to forcibly remount, call drive.mount(\"/content/drive\", force_remount=True).\n"
     ]
    }
   ],
   "source": [
    "from google.colab import drive\n",
    "drive.mount('/content/drive')"
   ]
  },
  {
   "cell_type": "code",
   "execution_count": null,
   "metadata": {
    "colab": {
     "base_uri": "https://localhost:8080/",
     "height": 423
    },
    "id": "x6S4EpUWgkiB",
    "outputId": "6c146b39-e5ee-4d5e-eace-e362fac39d9b"
   },
   "outputs": [
    {
     "data": {
      "text/html": [
       "\n",
       "  <div id=\"df-c266d128-739c-40ed-9442-66c0d78bc52d\">\n",
       "    <div class=\"colab-df-container\">\n",
       "      <div>\n",
       "<style scoped>\n",
       "    .dataframe tbody tr th:only-of-type {\n",
       "        vertical-align: middle;\n",
       "    }\n",
       "\n",
       "    .dataframe tbody tr th {\n",
       "        vertical-align: top;\n",
       "    }\n",
       "\n",
       "    .dataframe thead th {\n",
       "        text-align: right;\n",
       "    }\n",
       "</style>\n",
       "<table border=\"1\" class=\"dataframe\">\n",
       "  <thead>\n",
       "    <tr style=\"text-align: right;\">\n",
       "      <th></th>\n",
       "      <th>EffectiveYearBuilt</th>\n",
       "      <th>SQFTmain</th>\n",
       "      <th>Bedrooms</th>\n",
       "      <th>Bathrooms</th>\n",
       "      <th>Units</th>\n",
       "      <th>PropertyType</th>\n",
       "      <th>GeneralUseType</th>\n",
       "      <th>isTaxableParcel</th>\n",
       "      <th>AdministrativeRegion</th>\n",
       "      <th>netTaxableValue</th>\n",
       "    </tr>\n",
       "  </thead>\n",
       "  <tbody>\n",
       "    <tr>\n",
       "      <th>2086505</th>\n",
       "      <td>1941.0</td>\n",
       "      <td>1629.0</td>\n",
       "      <td>2</td>\n",
       "      <td>2</td>\n",
       "      <td>1</td>\n",
       "      <td>SFR</td>\n",
       "      <td>Residential</td>\n",
       "      <td>Y</td>\n",
       "      <td>11</td>\n",
       "      <td>198373.0</td>\n",
       "    </tr>\n",
       "    <tr>\n",
       "      <th>1706894</th>\n",
       "      <td>1950.0</td>\n",
       "      <td>840.0</td>\n",
       "      <td>2</td>\n",
       "      <td>1</td>\n",
       "      <td>1</td>\n",
       "      <td>SFR</td>\n",
       "      <td>Residential</td>\n",
       "      <td>Y</td>\n",
       "      <td>11</td>\n",
       "      <td>74690.0</td>\n",
       "    </tr>\n",
       "    <tr>\n",
       "      <th>1201665</th>\n",
       "      <td>1949.0</td>\n",
       "      <td>1511.0</td>\n",
       "      <td>3</td>\n",
       "      <td>2</td>\n",
       "      <td>1</td>\n",
       "      <td>SFR</td>\n",
       "      <td>Residential</td>\n",
       "      <td>Y</td>\n",
       "      <td>05</td>\n",
       "      <td>878836.0</td>\n",
       "    </tr>\n",
       "    <tr>\n",
       "      <th>2043313</th>\n",
       "      <td>1976.0</td>\n",
       "      <td>2387.0</td>\n",
       "      <td>5</td>\n",
       "      <td>3</td>\n",
       "      <td>1</td>\n",
       "      <td>SFR</td>\n",
       "      <td>Residential</td>\n",
       "      <td>Y</td>\n",
       "      <td>11</td>\n",
       "      <td>423186.0</td>\n",
       "    </tr>\n",
       "    <tr>\n",
       "      <th>477313</th>\n",
       "      <td>2002.0</td>\n",
       "      <td>3262.0</td>\n",
       "      <td>5</td>\n",
       "      <td>3</td>\n",
       "      <td>1</td>\n",
       "      <td>SFR</td>\n",
       "      <td>Residential</td>\n",
       "      <td>Y</td>\n",
       "      <td>B1</td>\n",
       "      <td>535154.0</td>\n",
       "    </tr>\n",
       "    <tr>\n",
       "      <th>...</th>\n",
       "      <td>...</td>\n",
       "      <td>...</td>\n",
       "      <td>...</td>\n",
       "      <td>...</td>\n",
       "      <td>...</td>\n",
       "      <td>...</td>\n",
       "      <td>...</td>\n",
       "      <td>...</td>\n",
       "      <td>...</td>\n",
       "      <td>...</td>\n",
       "    </tr>\n",
       "    <tr>\n",
       "      <th>398572</th>\n",
       "      <td>1975.0</td>\n",
       "      <td>2792.0</td>\n",
       "      <td>5</td>\n",
       "      <td>3</td>\n",
       "      <td>1</td>\n",
       "      <td>SFR</td>\n",
       "      <td>Residential</td>\n",
       "      <td>Y</td>\n",
       "      <td>02</td>\n",
       "      <td>489735.0</td>\n",
       "    </tr>\n",
       "    <tr>\n",
       "      <th>1937747</th>\n",
       "      <td>1997.0</td>\n",
       "      <td>2116.0</td>\n",
       "      <td>4</td>\n",
       "      <td>3</td>\n",
       "      <td>1</td>\n",
       "      <td>SFR</td>\n",
       "      <td>Residential</td>\n",
       "      <td>Y</td>\n",
       "      <td>10</td>\n",
       "      <td>361485.0</td>\n",
       "    </tr>\n",
       "    <tr>\n",
       "      <th>592606</th>\n",
       "      <td>1955.0</td>\n",
       "      <td>2532.0</td>\n",
       "      <td>3</td>\n",
       "      <td>2</td>\n",
       "      <td>1</td>\n",
       "      <td>SFR</td>\n",
       "      <td>Residential</td>\n",
       "      <td>Y</td>\n",
       "      <td>A1</td>\n",
       "      <td>393000.0</td>\n",
       "    </tr>\n",
       "    <tr>\n",
       "      <th>295107</th>\n",
       "      <td>1989.0</td>\n",
       "      <td>1540.0</td>\n",
       "      <td>3</td>\n",
       "      <td>3</td>\n",
       "      <td>1</td>\n",
       "      <td>CND</td>\n",
       "      <td>Residential</td>\n",
       "      <td>Y</td>\n",
       "      <td>03</td>\n",
       "      <td>293107.0</td>\n",
       "    </tr>\n",
       "    <tr>\n",
       "      <th>2299391</th>\n",
       "      <td>1962.0</td>\n",
       "      <td>1268.0</td>\n",
       "      <td>3</td>\n",
       "      <td>2</td>\n",
       "      <td>1</td>\n",
       "      <td>SFR</td>\n",
       "      <td>Residential</td>\n",
       "      <td>Y</td>\n",
       "      <td>05</td>\n",
       "      <td>185764.0</td>\n",
       "    </tr>\n",
       "  </tbody>\n",
       "</table>\n",
       "<p>3000 rows × 10 columns</p>\n",
       "</div>\n",
       "      <button class=\"colab-df-convert\" onclick=\"convertToInteractive('df-c266d128-739c-40ed-9442-66c0d78bc52d')\"\n",
       "              title=\"Convert this dataframe to an interactive table.\"\n",
       "              style=\"display:none;\">\n",
       "        \n",
       "  <svg xmlns=\"http://www.w3.org/2000/svg\" height=\"24px\"viewBox=\"0 0 24 24\"\n",
       "       width=\"24px\">\n",
       "    <path d=\"M0 0h24v24H0V0z\" fill=\"none\"/>\n",
       "    <path d=\"M18.56 5.44l.94 2.06.94-2.06 2.06-.94-2.06-.94-.94-2.06-.94 2.06-2.06.94zm-11 1L8.5 8.5l.94-2.06 2.06-.94-2.06-.94L8.5 2.5l-.94 2.06-2.06.94zm10 10l.94 2.06.94-2.06 2.06-.94-2.06-.94-.94-2.06-.94 2.06-2.06.94z\"/><path d=\"M17.41 7.96l-1.37-1.37c-.4-.4-.92-.59-1.43-.59-.52 0-1.04.2-1.43.59L10.3 9.45l-7.72 7.72c-.78.78-.78 2.05 0 2.83L4 21.41c.39.39.9.59 1.41.59.51 0 1.02-.2 1.41-.59l7.78-7.78 2.81-2.81c.8-.78.8-2.07 0-2.86zM5.41 20L4 18.59l7.72-7.72 1.47 1.35L5.41 20z\"/>\n",
       "  </svg>\n",
       "      </button>\n",
       "      \n",
       "  <style>\n",
       "    .colab-df-container {\n",
       "      display:flex;\n",
       "      flex-wrap:wrap;\n",
       "      gap: 12px;\n",
       "    }\n",
       "\n",
       "    .colab-df-convert {\n",
       "      background-color: #E8F0FE;\n",
       "      border: none;\n",
       "      border-radius: 50%;\n",
       "      cursor: pointer;\n",
       "      display: none;\n",
       "      fill: #1967D2;\n",
       "      height: 32px;\n",
       "      padding: 0 0 0 0;\n",
       "      width: 32px;\n",
       "    }\n",
       "\n",
       "    .colab-df-convert:hover {\n",
       "      background-color: #E2EBFA;\n",
       "      box-shadow: 0px 1px 2px rgba(60, 64, 67, 0.3), 0px 1px 3px 1px rgba(60, 64, 67, 0.15);\n",
       "      fill: #174EA6;\n",
       "    }\n",
       "\n",
       "    [theme=dark] .colab-df-convert {\n",
       "      background-color: #3B4455;\n",
       "      fill: #D2E3FC;\n",
       "    }\n",
       "\n",
       "    [theme=dark] .colab-df-convert:hover {\n",
       "      background-color: #434B5C;\n",
       "      box-shadow: 0px 1px 3px 1px rgba(0, 0, 0, 0.15);\n",
       "      filter: drop-shadow(0px 1px 2px rgba(0, 0, 0, 0.3));\n",
       "      fill: #FFFFFF;\n",
       "    }\n",
       "  </style>\n",
       "\n",
       "      <script>\n",
       "        const buttonEl =\n",
       "          document.querySelector('#df-c266d128-739c-40ed-9442-66c0d78bc52d button.colab-df-convert');\n",
       "        buttonEl.style.display =\n",
       "          google.colab.kernel.accessAllowed ? 'block' : 'none';\n",
       "\n",
       "        async function convertToInteractive(key) {\n",
       "          const element = document.querySelector('#df-c266d128-739c-40ed-9442-66c0d78bc52d');\n",
       "          const dataTable =\n",
       "            await google.colab.kernel.invokeFunction('convertToInteractive',\n",
       "                                                     [key], {});\n",
       "          if (!dataTable) return;\n",
       "\n",
       "          const docLinkHtml = 'Like what you see? Visit the ' +\n",
       "            '<a target=\"_blank\" href=https://colab.research.google.com/notebooks/data_table.ipynb>data table notebook</a>'\n",
       "            + ' to learn more about interactive tables.';\n",
       "          element.innerHTML = '';\n",
       "          dataTable['output_type'] = 'display_data';\n",
       "          await google.colab.output.renderOutput(dataTable, element);\n",
       "          const docLink = document.createElement('div');\n",
       "          docLink.innerHTML = docLinkHtml;\n",
       "          element.appendChild(docLink);\n",
       "        }\n",
       "      </script>\n",
       "    </div>\n",
       "  </div>\n",
       "  "
      ],
      "text/plain": [
       "         EffectiveYearBuilt  SQFTmain  Bedrooms  Bathrooms  Units  \\\n",
       "2086505              1941.0    1629.0         2          2      1   \n",
       "1706894              1950.0     840.0         2          1      1   \n",
       "1201665              1949.0    1511.0         3          2      1   \n",
       "2043313              1976.0    2387.0         5          3      1   \n",
       "477313               2002.0    3262.0         5          3      1   \n",
       "...                     ...       ...       ...        ...    ...   \n",
       "398572               1975.0    2792.0         5          3      1   \n",
       "1937747              1997.0    2116.0         4          3      1   \n",
       "592606               1955.0    2532.0         3          2      1   \n",
       "295107               1989.0    1540.0         3          3      1   \n",
       "2299391              1962.0    1268.0         3          2      1   \n",
       "\n",
       "        PropertyType GeneralUseType isTaxableParcel AdministrativeRegion  \\\n",
       "2086505          SFR    Residential               Y                   11   \n",
       "1706894          SFR    Residential               Y                   11   \n",
       "1201665          SFR    Residential               Y                   05   \n",
       "2043313          SFR    Residential               Y                   11   \n",
       "477313           SFR    Residential               Y                   B1   \n",
       "...              ...            ...             ...                  ...   \n",
       "398572           SFR    Residential               Y                   02   \n",
       "1937747          SFR    Residential               Y                   10   \n",
       "592606           SFR    Residential               Y                   A1   \n",
       "295107           CND    Residential               Y                   03   \n",
       "2299391          SFR    Residential               Y                   05   \n",
       "\n",
       "         netTaxableValue  \n",
       "2086505         198373.0  \n",
       "1706894          74690.0  \n",
       "1201665         878836.0  \n",
       "2043313         423186.0  \n",
       "477313          535154.0  \n",
       "...                  ...  \n",
       "398572          489735.0  \n",
       "1937747         361485.0  \n",
       "592606          393000.0  \n",
       "295107          293107.0  \n",
       "2299391         185764.0  \n",
       "\n",
       "[3000 rows x 10 columns]"
      ]
     },
     "execution_count": 70,
     "metadata": {},
     "output_type": "execute_result"
    }
   ],
   "source": [
    "df1_2"
   ]
  },
  {
   "cell_type": "code",
   "execution_count": null,
   "metadata": {
    "id": "OW5FoP-pi-_v"
   },
   "outputs": [],
   "source": [
    "df1_2.to_csv('sample1.csv') # sample n=3000"
   ]
  },
  {
   "cell_type": "markdown",
   "metadata": {
    "id": "Xngfk-H7kL4s"
   },
   "source": [
    "# 2. Data Processing"
   ]
  },
  {
   "cell_type": "code",
   "execution_count": null,
   "metadata": {
    "colab": {
     "base_uri": "https://localhost:8080/"
    },
    "id": "nN4YJjUdkSkq",
    "outputId": "baf6be38-7004-43fa-d253-dd2b747f67f0"
   },
   "outputs": [
    {
     "data": {
      "text/plain": [
       "Index(['Unnamed: 0', 'EffectiveYearBuilt', 'SQFTmain', 'Bedrooms', 'Bathrooms',\n",
       "       'Units', 'PropertyType', 'GeneralUseType', 'isTaxableParcel',\n",
       "       'AdministrativeRegion', 'netTaxableValue'],\n",
       "      dtype='object')"
      ]
     },
     "execution_count": 270,
     "metadata": {},
     "output_type": "execute_result"
    }
   ],
   "source": [
    "from pandas.core.frame import DataFrame\n",
    "dataset = pd.read_csv('sample1.csv', encoding='gbk')\n",
    "dataset.columns"
   ]
  },
  {
   "cell_type": "code",
   "execution_count": null,
   "metadata": {
    "colab": {
     "base_uri": "https://localhost:8080/",
     "height": 423
    },
    "id": "4yQtC0am6vdW",
    "outputId": "d2795075-6dcf-4a7e-a442-63fb18913837"
   },
   "outputs": [
    {
     "data": {
      "text/html": [
       "\n",
       "  <div id=\"df-b671a016-ffc9-4e33-a741-e0703e38565d\">\n",
       "    <div class=\"colab-df-container\">\n",
       "      <div>\n",
       "<style scoped>\n",
       "    .dataframe tbody tr th:only-of-type {\n",
       "        vertical-align: middle;\n",
       "    }\n",
       "\n",
       "    .dataframe tbody tr th {\n",
       "        vertical-align: top;\n",
       "    }\n",
       "\n",
       "    .dataframe thead th {\n",
       "        text-align: right;\n",
       "    }\n",
       "</style>\n",
       "<table border=\"1\" class=\"dataframe\">\n",
       "  <thead>\n",
       "    <tr style=\"text-align: right;\">\n",
       "      <th></th>\n",
       "      <th>ID</th>\n",
       "      <th>EffectiveYearBuilt</th>\n",
       "      <th>SQFTmain</th>\n",
       "      <th>Bedrooms</th>\n",
       "      <th>Bathrooms</th>\n",
       "      <th>Units</th>\n",
       "      <th>PropertyType</th>\n",
       "      <th>GeneralUseType</th>\n",
       "      <th>isTaxableParcel</th>\n",
       "      <th>AdministrativeRegion</th>\n",
       "      <th>netTaxableValue</th>\n",
       "    </tr>\n",
       "  </thead>\n",
       "  <tbody>\n",
       "    <tr>\n",
       "      <th>0</th>\n",
       "      <td>2086505</td>\n",
       "      <td>1941.0</td>\n",
       "      <td>1629.0</td>\n",
       "      <td>2</td>\n",
       "      <td>2</td>\n",
       "      <td>1</td>\n",
       "      <td>SFR</td>\n",
       "      <td>Residential</td>\n",
       "      <td>Y</td>\n",
       "      <td>11</td>\n",
       "      <td>198373.0</td>\n",
       "    </tr>\n",
       "    <tr>\n",
       "      <th>1</th>\n",
       "      <td>1706894</td>\n",
       "      <td>1950.0</td>\n",
       "      <td>840.0</td>\n",
       "      <td>2</td>\n",
       "      <td>1</td>\n",
       "      <td>1</td>\n",
       "      <td>SFR</td>\n",
       "      <td>Residential</td>\n",
       "      <td>Y</td>\n",
       "      <td>11</td>\n",
       "      <td>74690.0</td>\n",
       "    </tr>\n",
       "    <tr>\n",
       "      <th>2</th>\n",
       "      <td>1201665</td>\n",
       "      <td>1949.0</td>\n",
       "      <td>1511.0</td>\n",
       "      <td>3</td>\n",
       "      <td>2</td>\n",
       "      <td>1</td>\n",
       "      <td>SFR</td>\n",
       "      <td>Residential</td>\n",
       "      <td>Y</td>\n",
       "      <td>05</td>\n",
       "      <td>878836.0</td>\n",
       "    </tr>\n",
       "    <tr>\n",
       "      <th>3</th>\n",
       "      <td>2043313</td>\n",
       "      <td>1976.0</td>\n",
       "      <td>2387.0</td>\n",
       "      <td>5</td>\n",
       "      <td>3</td>\n",
       "      <td>1</td>\n",
       "      <td>SFR</td>\n",
       "      <td>Residential</td>\n",
       "      <td>Y</td>\n",
       "      <td>11</td>\n",
       "      <td>423186.0</td>\n",
       "    </tr>\n",
       "    <tr>\n",
       "      <th>4</th>\n",
       "      <td>477313</td>\n",
       "      <td>2002.0</td>\n",
       "      <td>3262.0</td>\n",
       "      <td>5</td>\n",
       "      <td>3</td>\n",
       "      <td>1</td>\n",
       "      <td>SFR</td>\n",
       "      <td>Residential</td>\n",
       "      <td>Y</td>\n",
       "      <td>B1</td>\n",
       "      <td>535154.0</td>\n",
       "    </tr>\n",
       "    <tr>\n",
       "      <th>...</th>\n",
       "      <td>...</td>\n",
       "      <td>...</td>\n",
       "      <td>...</td>\n",
       "      <td>...</td>\n",
       "      <td>...</td>\n",
       "      <td>...</td>\n",
       "      <td>...</td>\n",
       "      <td>...</td>\n",
       "      <td>...</td>\n",
       "      <td>...</td>\n",
       "      <td>...</td>\n",
       "    </tr>\n",
       "    <tr>\n",
       "      <th>2995</th>\n",
       "      <td>398572</td>\n",
       "      <td>1975.0</td>\n",
       "      <td>2792.0</td>\n",
       "      <td>5</td>\n",
       "      <td>3</td>\n",
       "      <td>1</td>\n",
       "      <td>SFR</td>\n",
       "      <td>Residential</td>\n",
       "      <td>Y</td>\n",
       "      <td>02</td>\n",
       "      <td>489735.0</td>\n",
       "    </tr>\n",
       "    <tr>\n",
       "      <th>2996</th>\n",
       "      <td>1937747</td>\n",
       "      <td>1997.0</td>\n",
       "      <td>2116.0</td>\n",
       "      <td>4</td>\n",
       "      <td>3</td>\n",
       "      <td>1</td>\n",
       "      <td>SFR</td>\n",
       "      <td>Residential</td>\n",
       "      <td>Y</td>\n",
       "      <td>10</td>\n",
       "      <td>361485.0</td>\n",
       "    </tr>\n",
       "    <tr>\n",
       "      <th>2997</th>\n",
       "      <td>592606</td>\n",
       "      <td>1955.0</td>\n",
       "      <td>2532.0</td>\n",
       "      <td>3</td>\n",
       "      <td>2</td>\n",
       "      <td>1</td>\n",
       "      <td>SFR</td>\n",
       "      <td>Residential</td>\n",
       "      <td>Y</td>\n",
       "      <td>A1</td>\n",
       "      <td>393000.0</td>\n",
       "    </tr>\n",
       "    <tr>\n",
       "      <th>2998</th>\n",
       "      <td>295107</td>\n",
       "      <td>1989.0</td>\n",
       "      <td>1540.0</td>\n",
       "      <td>3</td>\n",
       "      <td>3</td>\n",
       "      <td>1</td>\n",
       "      <td>CND</td>\n",
       "      <td>Residential</td>\n",
       "      <td>Y</td>\n",
       "      <td>03</td>\n",
       "      <td>293107.0</td>\n",
       "    </tr>\n",
       "    <tr>\n",
       "      <th>2999</th>\n",
       "      <td>2299391</td>\n",
       "      <td>1962.0</td>\n",
       "      <td>1268.0</td>\n",
       "      <td>3</td>\n",
       "      <td>2</td>\n",
       "      <td>1</td>\n",
       "      <td>SFR</td>\n",
       "      <td>Residential</td>\n",
       "      <td>Y</td>\n",
       "      <td>05</td>\n",
       "      <td>185764.0</td>\n",
       "    </tr>\n",
       "  </tbody>\n",
       "</table>\n",
       "<p>3000 rows × 11 columns</p>\n",
       "</div>\n",
       "      <button class=\"colab-df-convert\" onclick=\"convertToInteractive('df-b671a016-ffc9-4e33-a741-e0703e38565d')\"\n",
       "              title=\"Convert this dataframe to an interactive table.\"\n",
       "              style=\"display:none;\">\n",
       "        \n",
       "  <svg xmlns=\"http://www.w3.org/2000/svg\" height=\"24px\"viewBox=\"0 0 24 24\"\n",
       "       width=\"24px\">\n",
       "    <path d=\"M0 0h24v24H0V0z\" fill=\"none\"/>\n",
       "    <path d=\"M18.56 5.44l.94 2.06.94-2.06 2.06-.94-2.06-.94-.94-2.06-.94 2.06-2.06.94zm-11 1L8.5 8.5l.94-2.06 2.06-.94-2.06-.94L8.5 2.5l-.94 2.06-2.06.94zm10 10l.94 2.06.94-2.06 2.06-.94-2.06-.94-.94-2.06-.94 2.06-2.06.94z\"/><path d=\"M17.41 7.96l-1.37-1.37c-.4-.4-.92-.59-1.43-.59-.52 0-1.04.2-1.43.59L10.3 9.45l-7.72 7.72c-.78.78-.78 2.05 0 2.83L4 21.41c.39.39.9.59 1.41.59.51 0 1.02-.2 1.41-.59l7.78-7.78 2.81-2.81c.8-.78.8-2.07 0-2.86zM5.41 20L4 18.59l7.72-7.72 1.47 1.35L5.41 20z\"/>\n",
       "  </svg>\n",
       "      </button>\n",
       "      \n",
       "  <style>\n",
       "    .colab-df-container {\n",
       "      display:flex;\n",
       "      flex-wrap:wrap;\n",
       "      gap: 12px;\n",
       "    }\n",
       "\n",
       "    .colab-df-convert {\n",
       "      background-color: #E8F0FE;\n",
       "      border: none;\n",
       "      border-radius: 50%;\n",
       "      cursor: pointer;\n",
       "      display: none;\n",
       "      fill: #1967D2;\n",
       "      height: 32px;\n",
       "      padding: 0 0 0 0;\n",
       "      width: 32px;\n",
       "    }\n",
       "\n",
       "    .colab-df-convert:hover {\n",
       "      background-color: #E2EBFA;\n",
       "      box-shadow: 0px 1px 2px rgba(60, 64, 67, 0.3), 0px 1px 3px 1px rgba(60, 64, 67, 0.15);\n",
       "      fill: #174EA6;\n",
       "    }\n",
       "\n",
       "    [theme=dark] .colab-df-convert {\n",
       "      background-color: #3B4455;\n",
       "      fill: #D2E3FC;\n",
       "    }\n",
       "\n",
       "    [theme=dark] .colab-df-convert:hover {\n",
       "      background-color: #434B5C;\n",
       "      box-shadow: 0px 1px 3px 1px rgba(0, 0, 0, 0.15);\n",
       "      filter: drop-shadow(0px 1px 2px rgba(0, 0, 0, 0.3));\n",
       "      fill: #FFFFFF;\n",
       "    }\n",
       "  </style>\n",
       "\n",
       "      <script>\n",
       "        const buttonEl =\n",
       "          document.querySelector('#df-b671a016-ffc9-4e33-a741-e0703e38565d button.colab-df-convert');\n",
       "        buttonEl.style.display =\n",
       "          google.colab.kernel.accessAllowed ? 'block' : 'none';\n",
       "\n",
       "        async function convertToInteractive(key) {\n",
       "          const element = document.querySelector('#df-b671a016-ffc9-4e33-a741-e0703e38565d');\n",
       "          const dataTable =\n",
       "            await google.colab.kernel.invokeFunction('convertToInteractive',\n",
       "                                                     [key], {});\n",
       "          if (!dataTable) return;\n",
       "\n",
       "          const docLinkHtml = 'Like what you see? Visit the ' +\n",
       "            '<a target=\"_blank\" href=https://colab.research.google.com/notebooks/data_table.ipynb>data table notebook</a>'\n",
       "            + ' to learn more about interactive tables.';\n",
       "          element.innerHTML = '';\n",
       "          dataTable['output_type'] = 'display_data';\n",
       "          await google.colab.output.renderOutput(dataTable, element);\n",
       "          const docLink = document.createElement('div');\n",
       "          docLink.innerHTML = docLinkHtml;\n",
       "          element.appendChild(docLink);\n",
       "        }\n",
       "      </script>\n",
       "    </div>\n",
       "  </div>\n",
       "  "
      ],
      "text/plain": [
       "           ID  EffectiveYearBuilt  SQFTmain  Bedrooms  Bathrooms  Units  \\\n",
       "0     2086505              1941.0    1629.0         2          2      1   \n",
       "1     1706894              1950.0     840.0         2          1      1   \n",
       "2     1201665              1949.0    1511.0         3          2      1   \n",
       "3     2043313              1976.0    2387.0         5          3      1   \n",
       "4      477313              2002.0    3262.0         5          3      1   \n",
       "...       ...                 ...       ...       ...        ...    ...   \n",
       "2995   398572              1975.0    2792.0         5          3      1   \n",
       "2996  1937747              1997.0    2116.0         4          3      1   \n",
       "2997   592606              1955.0    2532.0         3          2      1   \n",
       "2998   295107              1989.0    1540.0         3          3      1   \n",
       "2999  2299391              1962.0    1268.0         3          2      1   \n",
       "\n",
       "     PropertyType GeneralUseType isTaxableParcel AdministrativeRegion  \\\n",
       "0             SFR    Residential               Y                   11   \n",
       "1             SFR    Residential               Y                   11   \n",
       "2             SFR    Residential               Y                   05   \n",
       "3             SFR    Residential               Y                   11   \n",
       "4             SFR    Residential               Y                   B1   \n",
       "...           ...            ...             ...                  ...   \n",
       "2995          SFR    Residential               Y                   02   \n",
       "2996          SFR    Residential               Y                   10   \n",
       "2997          SFR    Residential               Y                   A1   \n",
       "2998          CND    Residential               Y                   03   \n",
       "2999          SFR    Residential               Y                   05   \n",
       "\n",
       "      netTaxableValue  \n",
       "0            198373.0  \n",
       "1             74690.0  \n",
       "2            878836.0  \n",
       "3            423186.0  \n",
       "4            535154.0  \n",
       "...               ...  \n",
       "2995         489735.0  \n",
       "2996         361485.0  \n",
       "2997         393000.0  \n",
       "2998         293107.0  \n",
       "2999         185764.0  \n",
       "\n",
       "[3000 rows x 11 columns]"
      ]
     },
     "execution_count": 271,
     "metadata": {},
     "output_type": "execute_result"
    }
   ],
   "source": [
    "dataset.columns = ['ID', 'EffectiveYearBuilt', 'SQFTmain', 'Bedrooms', 'Bathrooms',\n",
    "       'Units', 'PropertyType', 'GeneralUseType', 'isTaxableParcel',\n",
    "       'AdministrativeRegion', 'netTaxableValue']\n",
    "dataset"
   ]
  },
  {
   "cell_type": "code",
   "execution_count": null,
   "metadata": {
    "colab": {
     "base_uri": "https://localhost:8080/",
     "height": 423
    },
    "id": "zyXSaDlLiDka",
    "outputId": "855b065f-519b-47fe-ab33-e5191d67f30e"
   },
   "outputs": [
    {
     "data": {
      "text/html": [
       "\n",
       "  <div id=\"df-9cde35d9-5347-45e1-b92b-a90c233487a7\">\n",
       "    <div class=\"colab-df-container\">\n",
       "      <div>\n",
       "<style scoped>\n",
       "    .dataframe tbody tr th:only-of-type {\n",
       "        vertical-align: middle;\n",
       "    }\n",
       "\n",
       "    .dataframe tbody tr th {\n",
       "        vertical-align: top;\n",
       "    }\n",
       "\n",
       "    .dataframe thead th {\n",
       "        text-align: right;\n",
       "    }\n",
       "</style>\n",
       "<table border=\"1\" class=\"dataframe\">\n",
       "  <thead>\n",
       "    <tr style=\"text-align: right;\">\n",
       "      <th></th>\n",
       "      <th>ID</th>\n",
       "      <th>EffectiveYearBuilt</th>\n",
       "      <th>SQFTmain</th>\n",
       "      <th>Bedrooms</th>\n",
       "      <th>Bathrooms</th>\n",
       "      <th>Units</th>\n",
       "      <th>PropertyType</th>\n",
       "      <th>GeneralUseType</th>\n",
       "      <th>isTaxableParcel</th>\n",
       "      <th>AdministrativeRegion</th>\n",
       "      <th>netTaxableValue</th>\n",
       "    </tr>\n",
       "  </thead>\n",
       "  <tbody>\n",
       "    <tr>\n",
       "      <th>0</th>\n",
       "      <td>2086505</td>\n",
       "      <td>1941.0</td>\n",
       "      <td>1629.0</td>\n",
       "      <td>2</td>\n",
       "      <td>2</td>\n",
       "      <td>1</td>\n",
       "      <td>SFR</td>\n",
       "      <td>Residential</td>\n",
       "      <td>Y</td>\n",
       "      <td>11</td>\n",
       "      <td>198373.0</td>\n",
       "    </tr>\n",
       "    <tr>\n",
       "      <th>1</th>\n",
       "      <td>1706894</td>\n",
       "      <td>1950.0</td>\n",
       "      <td>840.0</td>\n",
       "      <td>2</td>\n",
       "      <td>1</td>\n",
       "      <td>1</td>\n",
       "      <td>SFR</td>\n",
       "      <td>Residential</td>\n",
       "      <td>Y</td>\n",
       "      <td>11</td>\n",
       "      <td>74690.0</td>\n",
       "    </tr>\n",
       "    <tr>\n",
       "      <th>2</th>\n",
       "      <td>1201665</td>\n",
       "      <td>1949.0</td>\n",
       "      <td>1511.0</td>\n",
       "      <td>3</td>\n",
       "      <td>2</td>\n",
       "      <td>1</td>\n",
       "      <td>SFR</td>\n",
       "      <td>Residential</td>\n",
       "      <td>Y</td>\n",
       "      <td>05</td>\n",
       "      <td>878836.0</td>\n",
       "    </tr>\n",
       "    <tr>\n",
       "      <th>3</th>\n",
       "      <td>2043313</td>\n",
       "      <td>1976.0</td>\n",
       "      <td>2387.0</td>\n",
       "      <td>5</td>\n",
       "      <td>3</td>\n",
       "      <td>1</td>\n",
       "      <td>SFR</td>\n",
       "      <td>Residential</td>\n",
       "      <td>Y</td>\n",
       "      <td>11</td>\n",
       "      <td>423186.0</td>\n",
       "    </tr>\n",
       "    <tr>\n",
       "      <th>4</th>\n",
       "      <td>477313</td>\n",
       "      <td>2002.0</td>\n",
       "      <td>3262.0</td>\n",
       "      <td>5</td>\n",
       "      <td>3</td>\n",
       "      <td>1</td>\n",
       "      <td>SFR</td>\n",
       "      <td>Residential</td>\n",
       "      <td>Y</td>\n",
       "      <td>B1</td>\n",
       "      <td>535154.0</td>\n",
       "    </tr>\n",
       "    <tr>\n",
       "      <th>...</th>\n",
       "      <td>...</td>\n",
       "      <td>...</td>\n",
       "      <td>...</td>\n",
       "      <td>...</td>\n",
       "      <td>...</td>\n",
       "      <td>...</td>\n",
       "      <td>...</td>\n",
       "      <td>...</td>\n",
       "      <td>...</td>\n",
       "      <td>...</td>\n",
       "      <td>...</td>\n",
       "    </tr>\n",
       "    <tr>\n",
       "      <th>70</th>\n",
       "      <td>815186</td>\n",
       "      <td>2007.0</td>\n",
       "      <td>5482.0</td>\n",
       "      <td>5</td>\n",
       "      <td>7</td>\n",
       "      <td>1</td>\n",
       "      <td>SFR</td>\n",
       "      <td>Residential</td>\n",
       "      <td>Y</td>\n",
       "      <td>14</td>\n",
       "      <td>2784408.0</td>\n",
       "    </tr>\n",
       "    <tr>\n",
       "      <th>71</th>\n",
       "      <td>2240359</td>\n",
       "      <td>1962.0</td>\n",
       "      <td>1482.0</td>\n",
       "      <td>4</td>\n",
       "      <td>2</td>\n",
       "      <td>1</td>\n",
       "      <td>SFR</td>\n",
       "      <td>Residential</td>\n",
       "      <td>Y</td>\n",
       "      <td>06</td>\n",
       "      <td>64511.0</td>\n",
       "    </tr>\n",
       "    <tr>\n",
       "      <th>72</th>\n",
       "      <td>1014390</td>\n",
       "      <td>1928.0</td>\n",
       "      <td>2934.0</td>\n",
       "      <td>2</td>\n",
       "      <td>1</td>\n",
       "      <td>1</td>\n",
       "      <td>OTH</td>\n",
       "      <td>Institutional</td>\n",
       "      <td>Y</td>\n",
       "      <td>25</td>\n",
       "      <td>195433.0</td>\n",
       "    </tr>\n",
       "    <tr>\n",
       "      <th>73</th>\n",
       "      <td>1895845</td>\n",
       "      <td>1988.0</td>\n",
       "      <td>1490.0</td>\n",
       "      <td>3</td>\n",
       "      <td>3</td>\n",
       "      <td>1</td>\n",
       "      <td>CND</td>\n",
       "      <td>Residential</td>\n",
       "      <td>Y</td>\n",
       "      <td>14</td>\n",
       "      <td>393212.0</td>\n",
       "    </tr>\n",
       "    <tr>\n",
       "      <th>74</th>\n",
       "      <td>1285255</td>\n",
       "      <td>1918.0</td>\n",
       "      <td>732.0</td>\n",
       "      <td>2</td>\n",
       "      <td>1</td>\n",
       "      <td>1</td>\n",
       "      <td>SFR</td>\n",
       "      <td>Residential</td>\n",
       "      <td>Y</td>\n",
       "      <td>04</td>\n",
       "      <td>438573.0</td>\n",
       "    </tr>\n",
       "  </tbody>\n",
       "</table>\n",
       "<p>75 rows × 11 columns</p>\n",
       "</div>\n",
       "      <button class=\"colab-df-convert\" onclick=\"convertToInteractive('df-9cde35d9-5347-45e1-b92b-a90c233487a7')\"\n",
       "              title=\"Convert this dataframe to an interactive table.\"\n",
       "              style=\"display:none;\">\n",
       "        \n",
       "  <svg xmlns=\"http://www.w3.org/2000/svg\" height=\"24px\"viewBox=\"0 0 24 24\"\n",
       "       width=\"24px\">\n",
       "    <path d=\"M0 0h24v24H0V0z\" fill=\"none\"/>\n",
       "    <path d=\"M18.56 5.44l.94 2.06.94-2.06 2.06-.94-2.06-.94-.94-2.06-.94 2.06-2.06.94zm-11 1L8.5 8.5l.94-2.06 2.06-.94-2.06-.94L8.5 2.5l-.94 2.06-2.06.94zm10 10l.94 2.06.94-2.06 2.06-.94-2.06-.94-.94-2.06-.94 2.06-2.06.94z\"/><path d=\"M17.41 7.96l-1.37-1.37c-.4-.4-.92-.59-1.43-.59-.52 0-1.04.2-1.43.59L10.3 9.45l-7.72 7.72c-.78.78-.78 2.05 0 2.83L4 21.41c.39.39.9.59 1.41.59.51 0 1.02-.2 1.41-.59l7.78-7.78 2.81-2.81c.8-.78.8-2.07 0-2.86zM5.41 20L4 18.59l7.72-7.72 1.47 1.35L5.41 20z\"/>\n",
       "  </svg>\n",
       "      </button>\n",
       "      \n",
       "  <style>\n",
       "    .colab-df-container {\n",
       "      display:flex;\n",
       "      flex-wrap:wrap;\n",
       "      gap: 12px;\n",
       "    }\n",
       "\n",
       "    .colab-df-convert {\n",
       "      background-color: #E8F0FE;\n",
       "      border: none;\n",
       "      border-radius: 50%;\n",
       "      cursor: pointer;\n",
       "      display: none;\n",
       "      fill: #1967D2;\n",
       "      height: 32px;\n",
       "      padding: 0 0 0 0;\n",
       "      width: 32px;\n",
       "    }\n",
       "\n",
       "    .colab-df-convert:hover {\n",
       "      background-color: #E2EBFA;\n",
       "      box-shadow: 0px 1px 2px rgba(60, 64, 67, 0.3), 0px 1px 3px 1px rgba(60, 64, 67, 0.15);\n",
       "      fill: #174EA6;\n",
       "    }\n",
       "\n",
       "    [theme=dark] .colab-df-convert {\n",
       "      background-color: #3B4455;\n",
       "      fill: #D2E3FC;\n",
       "    }\n",
       "\n",
       "    [theme=dark] .colab-df-convert:hover {\n",
       "      background-color: #434B5C;\n",
       "      box-shadow: 0px 1px 3px 1px rgba(0, 0, 0, 0.15);\n",
       "      filter: drop-shadow(0px 1px 2px rgba(0, 0, 0, 0.3));\n",
       "      fill: #FFFFFF;\n",
       "    }\n",
       "  </style>\n",
       "\n",
       "      <script>\n",
       "        const buttonEl =\n",
       "          document.querySelector('#df-9cde35d9-5347-45e1-b92b-a90c233487a7 button.colab-df-convert');\n",
       "        buttonEl.style.display =\n",
       "          google.colab.kernel.accessAllowed ? 'block' : 'none';\n",
       "\n",
       "        async function convertToInteractive(key) {\n",
       "          const element = document.querySelector('#df-9cde35d9-5347-45e1-b92b-a90c233487a7');\n",
       "          const dataTable =\n",
       "            await google.colab.kernel.invokeFunction('convertToInteractive',\n",
       "                                                     [key], {});\n",
       "          if (!dataTable) return;\n",
       "\n",
       "          const docLinkHtml = 'Like what you see? Visit the ' +\n",
       "            '<a target=\"_blank\" href=https://colab.research.google.com/notebooks/data_table.ipynb>data table notebook</a>'\n",
       "            + ' to learn more about interactive tables.';\n",
       "          element.innerHTML = '';\n",
       "          dataTable['output_type'] = 'display_data';\n",
       "          await google.colab.output.renderOutput(dataTable, element);\n",
       "          const docLink = document.createElement('div');\n",
       "          docLink.innerHTML = docLinkHtml;\n",
       "          element.appendChild(docLink);\n",
       "        }\n",
       "      </script>\n",
       "    </div>\n",
       "  </div>\n",
       "  "
      ],
      "text/plain": [
       "         ID  EffectiveYearBuilt  SQFTmain  Bedrooms  Bathrooms  Units  \\\n",
       "0   2086505              1941.0    1629.0         2          2      1   \n",
       "1   1706894              1950.0     840.0         2          1      1   \n",
       "2   1201665              1949.0    1511.0         3          2      1   \n",
       "3   2043313              1976.0    2387.0         5          3      1   \n",
       "4    477313              2002.0    3262.0         5          3      1   \n",
       "..      ...                 ...       ...       ...        ...    ...   \n",
       "70   815186              2007.0    5482.0         5          7      1   \n",
       "71  2240359              1962.0    1482.0         4          2      1   \n",
       "72  1014390              1928.0    2934.0         2          1      1   \n",
       "73  1895845              1988.0    1490.0         3          3      1   \n",
       "74  1285255              1918.0     732.0         2          1      1   \n",
       "\n",
       "   PropertyType GeneralUseType isTaxableParcel AdministrativeRegion  \\\n",
       "0           SFR    Residential               Y                   11   \n",
       "1           SFR    Residential               Y                   11   \n",
       "2           SFR    Residential               Y                   05   \n",
       "3           SFR    Residential               Y                   11   \n",
       "4           SFR    Residential               Y                   B1   \n",
       "..          ...            ...             ...                  ...   \n",
       "70          SFR    Residential               Y                   14   \n",
       "71          SFR    Residential               Y                   06   \n",
       "72          OTH  Institutional               Y                   25   \n",
       "73          CND    Residential               Y                   14   \n",
       "74          SFR    Residential               Y                   04   \n",
       "\n",
       "    netTaxableValue  \n",
       "0          198373.0  \n",
       "1           74690.0  \n",
       "2          878836.0  \n",
       "3          423186.0  \n",
       "4          535154.0  \n",
       "..              ...  \n",
       "70        2784408.0  \n",
       "71          64511.0  \n",
       "72         195433.0  \n",
       "73         393212.0  \n",
       "74         438573.0  \n",
       "\n",
       "[75 rows x 11 columns]"
      ]
     },
     "execution_count": 272,
     "metadata": {},
     "output_type": "execute_result"
    }
   ],
   "source": [
    "dataset.head(75)"
   ]
  },
  {
   "cell_type": "markdown",
   "metadata": {
    "id": "85fZO8IU9Ajo"
   },
   "source": [
    "## 2.1 Numerical Variables"
   ]
  },
  {
   "cell_type": "code",
   "execution_count": null,
   "metadata": {
    "colab": {
     "base_uri": "https://localhost:8080/",
     "height": 206
    },
    "id": "-CypGkcX8_xi",
    "outputId": "997f00ed-c4a9-4310-c69e-69c8539f149e"
   },
   "outputs": [
    {
     "data": {
      "text/html": [
       "\n",
       "  <div id=\"df-944f4e10-a934-44f4-80c8-e0afa36b7a0d\">\n",
       "    <div class=\"colab-df-container\">\n",
       "      <div>\n",
       "<style scoped>\n",
       "    .dataframe tbody tr th:only-of-type {\n",
       "        vertical-align: middle;\n",
       "    }\n",
       "\n",
       "    .dataframe tbody tr th {\n",
       "        vertical-align: top;\n",
       "    }\n",
       "\n",
       "    .dataframe thead th {\n",
       "        text-align: right;\n",
       "    }\n",
       "</style>\n",
       "<table border=\"1\" class=\"dataframe\">\n",
       "  <thead>\n",
       "    <tr style=\"text-align: right;\">\n",
       "      <th></th>\n",
       "      <th>ID</th>\n",
       "      <th>SQFTmain</th>\n",
       "      <th>Bedrooms</th>\n",
       "      <th>Bathrooms</th>\n",
       "      <th>Units</th>\n",
       "      <th>PropertyType</th>\n",
       "      <th>GeneralUseType</th>\n",
       "      <th>isTaxableParcel</th>\n",
       "      <th>AdministrativeRegion</th>\n",
       "      <th>netTaxableValue</th>\n",
       "      <th>EffectiveYear</th>\n",
       "    </tr>\n",
       "  </thead>\n",
       "  <tbody>\n",
       "    <tr>\n",
       "      <th>0</th>\n",
       "      <td>2086505</td>\n",
       "      <td>1629.0</td>\n",
       "      <td>2</td>\n",
       "      <td>2</td>\n",
       "      <td>1</td>\n",
       "      <td>SFR</td>\n",
       "      <td>Residential</td>\n",
       "      <td>Y</td>\n",
       "      <td>11</td>\n",
       "      <td>198373.0</td>\n",
       "      <td>81.0</td>\n",
       "    </tr>\n",
       "    <tr>\n",
       "      <th>1</th>\n",
       "      <td>1706894</td>\n",
       "      <td>840.0</td>\n",
       "      <td>2</td>\n",
       "      <td>1</td>\n",
       "      <td>1</td>\n",
       "      <td>SFR</td>\n",
       "      <td>Residential</td>\n",
       "      <td>Y</td>\n",
       "      <td>11</td>\n",
       "      <td>74690.0</td>\n",
       "      <td>72.0</td>\n",
       "    </tr>\n",
       "    <tr>\n",
       "      <th>2</th>\n",
       "      <td>1201665</td>\n",
       "      <td>1511.0</td>\n",
       "      <td>3</td>\n",
       "      <td>2</td>\n",
       "      <td>1</td>\n",
       "      <td>SFR</td>\n",
       "      <td>Residential</td>\n",
       "      <td>Y</td>\n",
       "      <td>05</td>\n",
       "      <td>878836.0</td>\n",
       "      <td>73.0</td>\n",
       "    </tr>\n",
       "    <tr>\n",
       "      <th>3</th>\n",
       "      <td>2043313</td>\n",
       "      <td>2387.0</td>\n",
       "      <td>5</td>\n",
       "      <td>3</td>\n",
       "      <td>1</td>\n",
       "      <td>SFR</td>\n",
       "      <td>Residential</td>\n",
       "      <td>Y</td>\n",
       "      <td>11</td>\n",
       "      <td>423186.0</td>\n",
       "      <td>46.0</td>\n",
       "    </tr>\n",
       "    <tr>\n",
       "      <th>4</th>\n",
       "      <td>477313</td>\n",
       "      <td>3262.0</td>\n",
       "      <td>5</td>\n",
       "      <td>3</td>\n",
       "      <td>1</td>\n",
       "      <td>SFR</td>\n",
       "      <td>Residential</td>\n",
       "      <td>Y</td>\n",
       "      <td>B1</td>\n",
       "      <td>535154.0</td>\n",
       "      <td>20.0</td>\n",
       "    </tr>\n",
       "  </tbody>\n",
       "</table>\n",
       "</div>\n",
       "      <button class=\"colab-df-convert\" onclick=\"convertToInteractive('df-944f4e10-a934-44f4-80c8-e0afa36b7a0d')\"\n",
       "              title=\"Convert this dataframe to an interactive table.\"\n",
       "              style=\"display:none;\">\n",
       "        \n",
       "  <svg xmlns=\"http://www.w3.org/2000/svg\" height=\"24px\"viewBox=\"0 0 24 24\"\n",
       "       width=\"24px\">\n",
       "    <path d=\"M0 0h24v24H0V0z\" fill=\"none\"/>\n",
       "    <path d=\"M18.56 5.44l.94 2.06.94-2.06 2.06-.94-2.06-.94-.94-2.06-.94 2.06-2.06.94zm-11 1L8.5 8.5l.94-2.06 2.06-.94-2.06-.94L8.5 2.5l-.94 2.06-2.06.94zm10 10l.94 2.06.94-2.06 2.06-.94-2.06-.94-.94-2.06-.94 2.06-2.06.94z\"/><path d=\"M17.41 7.96l-1.37-1.37c-.4-.4-.92-.59-1.43-.59-.52 0-1.04.2-1.43.59L10.3 9.45l-7.72 7.72c-.78.78-.78 2.05 0 2.83L4 21.41c.39.39.9.59 1.41.59.51 0 1.02-.2 1.41-.59l7.78-7.78 2.81-2.81c.8-.78.8-2.07 0-2.86zM5.41 20L4 18.59l7.72-7.72 1.47 1.35L5.41 20z\"/>\n",
       "  </svg>\n",
       "      </button>\n",
       "      \n",
       "  <style>\n",
       "    .colab-df-container {\n",
       "      display:flex;\n",
       "      flex-wrap:wrap;\n",
       "      gap: 12px;\n",
       "    }\n",
       "\n",
       "    .colab-df-convert {\n",
       "      background-color: #E8F0FE;\n",
       "      border: none;\n",
       "      border-radius: 50%;\n",
       "      cursor: pointer;\n",
       "      display: none;\n",
       "      fill: #1967D2;\n",
       "      height: 32px;\n",
       "      padding: 0 0 0 0;\n",
       "      width: 32px;\n",
       "    }\n",
       "\n",
       "    .colab-df-convert:hover {\n",
       "      background-color: #E2EBFA;\n",
       "      box-shadow: 0px 1px 2px rgba(60, 64, 67, 0.3), 0px 1px 3px 1px rgba(60, 64, 67, 0.15);\n",
       "      fill: #174EA6;\n",
       "    }\n",
       "\n",
       "    [theme=dark] .colab-df-convert {\n",
       "      background-color: #3B4455;\n",
       "      fill: #D2E3FC;\n",
       "    }\n",
       "\n",
       "    [theme=dark] .colab-df-convert:hover {\n",
       "      background-color: #434B5C;\n",
       "      box-shadow: 0px 1px 3px 1px rgba(0, 0, 0, 0.15);\n",
       "      filter: drop-shadow(0px 1px 2px rgba(0, 0, 0, 0.3));\n",
       "      fill: #FFFFFF;\n",
       "    }\n",
       "  </style>\n",
       "\n",
       "      <script>\n",
       "        const buttonEl =\n",
       "          document.querySelector('#df-944f4e10-a934-44f4-80c8-e0afa36b7a0d button.colab-df-convert');\n",
       "        buttonEl.style.display =\n",
       "          google.colab.kernel.accessAllowed ? 'block' : 'none';\n",
       "\n",
       "        async function convertToInteractive(key) {\n",
       "          const element = document.querySelector('#df-944f4e10-a934-44f4-80c8-e0afa36b7a0d');\n",
       "          const dataTable =\n",
       "            await google.colab.kernel.invokeFunction('convertToInteractive',\n",
       "                                                     [key], {});\n",
       "          if (!dataTable) return;\n",
       "\n",
       "          const docLinkHtml = 'Like what you see? Visit the ' +\n",
       "            '<a target=\"_blank\" href=https://colab.research.google.com/notebooks/data_table.ipynb>data table notebook</a>'\n",
       "            + ' to learn more about interactive tables.';\n",
       "          element.innerHTML = '';\n",
       "          dataTable['output_type'] = 'display_data';\n",
       "          await google.colab.output.renderOutput(dataTable, element);\n",
       "          const docLink = document.createElement('div');\n",
       "          docLink.innerHTML = docLinkHtml;\n",
       "          element.appendChild(docLink);\n",
       "        }\n",
       "      </script>\n",
       "    </div>\n",
       "  </div>\n",
       "  "
      ],
      "text/plain": [
       "        ID  SQFTmain  Bedrooms  Bathrooms  Units PropertyType GeneralUseType  \\\n",
       "0  2086505    1629.0         2          2      1          SFR    Residential   \n",
       "1  1706894     840.0         2          1      1          SFR    Residential   \n",
       "2  1201665    1511.0         3          2      1          SFR    Residential   \n",
       "3  2043313    2387.0         5          3      1          SFR    Residential   \n",
       "4   477313    3262.0         5          3      1          SFR    Residential   \n",
       "\n",
       "  isTaxableParcel AdministrativeRegion  netTaxableValue  EffectiveYear  \n",
       "0               Y                   11         198373.0           81.0  \n",
       "1               Y                   11          74690.0           72.0  \n",
       "2               Y                   05         878836.0           73.0  \n",
       "3               Y                   11         423186.0           46.0  \n",
       "4               Y                   B1         535154.0           20.0  "
      ]
     },
     "execution_count": 273,
     "metadata": {},
     "output_type": "execute_result"
    }
   ],
   "source": [
    "# Calculate effective year based on 2022\n",
    "dataset['EffectiveYear']=2022-dataset['EffectiveYearBuilt'] \n",
    "dataset = dataset.drop(columns=['EffectiveYearBuilt'])\n",
    "dataset.head()"
   ]
  },
  {
   "cell_type": "markdown",
   "metadata": {
    "id": "KBHxhi0wlR9K"
   },
   "source": [
    "## 2.2 Dummy Variables"
   ]
  },
  {
   "cell_type": "markdown",
   "metadata": {
    "id": "rKWQr2-6HldL"
   },
   "source": [
    "### 2.2.1 PropertyType"
   ]
  },
  {
   "cell_type": "code",
   "execution_count": null,
   "metadata": {
    "colab": {
     "base_uri": "https://localhost:8080/"
    },
    "id": "AmLPPdzulJ0f",
    "outputId": "76e31bc4-4d78-4644-df03-c44ec310514b"
   },
   "outputs": [
    {
     "name": "stdout",
     "output_type": "stream",
     "text": [
      "PropertyType ['SFR' 'CND' 'VAC' 'R-I' 'OTH' 'C/I']\n"
     ]
    }
   ],
   "source": [
    "print(\"PropertyType\",dataset[\"PropertyType\"].unique())"
   ]
  },
  {
   "cell_type": "code",
   "execution_count": null,
   "metadata": {
    "colab": {
     "base_uri": "https://localhost:8080/",
     "height": 269
    },
    "id": "OXT62IoXCvUM",
    "outputId": "b658e005-5457-454f-e8d6-87b78a85e6ac"
   },
   "outputs": [
    {
     "data": {
      "text/html": [
       "\n",
       "  <div id=\"df-0e2513c8-9e8f-49dd-a4fb-8f16098021e8\">\n",
       "    <div class=\"colab-df-container\">\n",
       "      <div>\n",
       "<style scoped>\n",
       "    .dataframe tbody tr th:only-of-type {\n",
       "        vertical-align: middle;\n",
       "    }\n",
       "\n",
       "    .dataframe tbody tr th {\n",
       "        vertical-align: top;\n",
       "    }\n",
       "\n",
       "    .dataframe thead th {\n",
       "        text-align: right;\n",
       "    }\n",
       "</style>\n",
       "<table border=\"1\" class=\"dataframe\">\n",
       "  <thead>\n",
       "    <tr style=\"text-align: right;\">\n",
       "      <th></th>\n",
       "      <th>netTaxableValue</th>\n",
       "    </tr>\n",
       "    <tr>\n",
       "      <th>PropertyType</th>\n",
       "      <th></th>\n",
       "    </tr>\n",
       "  </thead>\n",
       "  <tbody>\n",
       "    <tr>\n",
       "      <th>C/I</th>\n",
       "      <td>4.120178e+06</td>\n",
       "    </tr>\n",
       "    <tr>\n",
       "      <th>CND</th>\n",
       "      <td>4.933757e+05</td>\n",
       "    </tr>\n",
       "    <tr>\n",
       "      <th>OTH</th>\n",
       "      <td>2.563552e+06</td>\n",
       "    </tr>\n",
       "    <tr>\n",
       "      <th>R-I</th>\n",
       "      <td>1.052811e+06</td>\n",
       "    </tr>\n",
       "    <tr>\n",
       "      <th>SFR</th>\n",
       "      <td>5.680542e+05</td>\n",
       "    </tr>\n",
       "    <tr>\n",
       "      <th>VAC</th>\n",
       "      <td>1.700000e+07</td>\n",
       "    </tr>\n",
       "  </tbody>\n",
       "</table>\n",
       "</div>\n",
       "      <button class=\"colab-df-convert\" onclick=\"convertToInteractive('df-0e2513c8-9e8f-49dd-a4fb-8f16098021e8')\"\n",
       "              title=\"Convert this dataframe to an interactive table.\"\n",
       "              style=\"display:none;\">\n",
       "        \n",
       "  <svg xmlns=\"http://www.w3.org/2000/svg\" height=\"24px\"viewBox=\"0 0 24 24\"\n",
       "       width=\"24px\">\n",
       "    <path d=\"M0 0h24v24H0V0z\" fill=\"none\"/>\n",
       "    <path d=\"M18.56 5.44l.94 2.06.94-2.06 2.06-.94-2.06-.94-.94-2.06-.94 2.06-2.06.94zm-11 1L8.5 8.5l.94-2.06 2.06-.94-2.06-.94L8.5 2.5l-.94 2.06-2.06.94zm10 10l.94 2.06.94-2.06 2.06-.94-2.06-.94-.94-2.06-.94 2.06-2.06.94z\"/><path d=\"M17.41 7.96l-1.37-1.37c-.4-.4-.92-.59-1.43-.59-.52 0-1.04.2-1.43.59L10.3 9.45l-7.72 7.72c-.78.78-.78 2.05 0 2.83L4 21.41c.39.39.9.59 1.41.59.51 0 1.02-.2 1.41-.59l7.78-7.78 2.81-2.81c.8-.78.8-2.07 0-2.86zM5.41 20L4 18.59l7.72-7.72 1.47 1.35L5.41 20z\"/>\n",
       "  </svg>\n",
       "      </button>\n",
       "      \n",
       "  <style>\n",
       "    .colab-df-container {\n",
       "      display:flex;\n",
       "      flex-wrap:wrap;\n",
       "      gap: 12px;\n",
       "    }\n",
       "\n",
       "    .colab-df-convert {\n",
       "      background-color: #E8F0FE;\n",
       "      border: none;\n",
       "      border-radius: 50%;\n",
       "      cursor: pointer;\n",
       "      display: none;\n",
       "      fill: #1967D2;\n",
       "      height: 32px;\n",
       "      padding: 0 0 0 0;\n",
       "      width: 32px;\n",
       "    }\n",
       "\n",
       "    .colab-df-convert:hover {\n",
       "      background-color: #E2EBFA;\n",
       "      box-shadow: 0px 1px 2px rgba(60, 64, 67, 0.3), 0px 1px 3px 1px rgba(60, 64, 67, 0.15);\n",
       "      fill: #174EA6;\n",
       "    }\n",
       "\n",
       "    [theme=dark] .colab-df-convert {\n",
       "      background-color: #3B4455;\n",
       "      fill: #D2E3FC;\n",
       "    }\n",
       "\n",
       "    [theme=dark] .colab-df-convert:hover {\n",
       "      background-color: #434B5C;\n",
       "      box-shadow: 0px 1px 3px 1px rgba(0, 0, 0, 0.15);\n",
       "      filter: drop-shadow(0px 1px 2px rgba(0, 0, 0, 0.3));\n",
       "      fill: #FFFFFF;\n",
       "    }\n",
       "  </style>\n",
       "\n",
       "      <script>\n",
       "        const buttonEl =\n",
       "          document.querySelector('#df-0e2513c8-9e8f-49dd-a4fb-8f16098021e8 button.colab-df-convert');\n",
       "        buttonEl.style.display =\n",
       "          google.colab.kernel.accessAllowed ? 'block' : 'none';\n",
       "\n",
       "        async function convertToInteractive(key) {\n",
       "          const element = document.querySelector('#df-0e2513c8-9e8f-49dd-a4fb-8f16098021e8');\n",
       "          const dataTable =\n",
       "            await google.colab.kernel.invokeFunction('convertToInteractive',\n",
       "                                                     [key], {});\n",
       "          if (!dataTable) return;\n",
       "\n",
       "          const docLinkHtml = 'Like what you see? Visit the ' +\n",
       "            '<a target=\"_blank\" href=https://colab.research.google.com/notebooks/data_table.ipynb>data table notebook</a>'\n",
       "            + ' to learn more about interactive tables.';\n",
       "          element.innerHTML = '';\n",
       "          dataTable['output_type'] = 'display_data';\n",
       "          await google.colab.output.renderOutput(dataTable, element);\n",
       "          const docLink = document.createElement('div');\n",
       "          docLink.innerHTML = docLinkHtml;\n",
       "          element.appendChild(docLink);\n",
       "        }\n",
       "      </script>\n",
       "    </div>\n",
       "  </div>\n",
       "  "
      ],
      "text/plain": [
       "              netTaxableValue\n",
       "PropertyType                 \n",
       "C/I              4.120178e+06\n",
       "CND              4.933757e+05\n",
       "OTH              2.563552e+06\n",
       "R-I              1.052811e+06\n",
       "SFR              5.680542e+05\n",
       "VAC              1.700000e+07"
      ]
     },
     "execution_count": 275,
     "metadata": {},
     "output_type": "execute_result"
    }
   ],
   "source": [
    "# making Group by PropertyType\n",
    "ave_PropertyType = dataset.drop(['ID','SQFTmain','Bedrooms','Bathrooms','Units','EffectiveYear'], axis=1).groupby(\"PropertyType\").mean()\n",
    "ave_PropertyType"
   ]
  },
  {
   "cell_type": "code",
   "execution_count": null,
   "metadata": {
    "colab": {
     "base_uri": "https://localhost:8080/",
     "height": 647
    },
    "id": "ZCDCztfGEsLf",
    "outputId": "4d383184-2755-4cfd-8d9d-3e56e7dc6a5f"
   },
   "outputs": [
    {
     "data": {
      "text/plain": [
       "<matplotlib.axes._subplots.AxesSubplot at 0x7f49f660ee90>"
      ]
     },
     "execution_count": 276,
     "metadata": {},
     "output_type": "execute_result"
    },
    {
     "data": {
      "image/png": "[encoded data removed]",
      "text/plain": [
       "<Figure size 1440x720 with 1 Axes>"
      ]
     },
     "metadata": {
      "needs_background": "light"
     },
     "output_type": "display_data"
    }
   ],
   "source": [
    "# graph the group by PropertyType\n",
    "ave_PropertyType.plot(kind=\"bar\",figsize=(20,10))"
   ]
  },
  {
   "cell_type": "code",
   "execution_count": null,
   "metadata": {
    "id": "gMMswR6qlfzK"
   },
   "outputs": [],
   "source": [
    "# From the plot, set VAC Type as 1, the other as 0\n",
    "PropertyTypeDict={'SFR':0, 'CND':0, 'R-I':0,'C/I':0,'OTH':0,'VAC':1}\n",
    "dataset['PropertyType Map']=dataset['PropertyType'].map(PropertyTypeDict)"
   ]
  },
  {
   "cell_type": "markdown",
   "metadata": {
    "id": "juUk6I4YH76a"
   },
   "source": [
    "### 2.2.2 GeneralUseType"
   ]
  },
  {
   "cell_type": "code",
   "execution_count": null,
   "metadata": {
    "colab": {
     "base_uri": "https://localhost:8080/"
    },
    "id": "-qEurwO3mQOR",
    "outputId": "d9461058-2725-4a51-db80-8c5157af5fbe"
   },
   "outputs": [
    {
     "name": "stdout",
     "output_type": "stream",
     "text": [
      "GeneralUseType ['Residential' 'Institutional' 'Commercial' 'Industrial' 'Recreational'\n",
      " 'Irrigated Farm']\n"
     ]
    }
   ],
   "source": [
    "print(\"GeneralUseType\",dataset[\"GeneralUseType\"].unique())"
   ]
  },
  {
   "cell_type": "code",
   "execution_count": null,
   "metadata": {
    "colab": {
     "base_uri": "https://localhost:8080/",
     "height": 269
    },
    "id": "aFHJYMZJIFoS",
    "outputId": "c343a404-fd15-4de6-87fd-51043fbfdf5a"
   },
   "outputs": [
    {
     "data": {
      "text/html": [
       "\n",
       "  <div id=\"df-cc60d4f3-7f51-47f6-bc6f-55ee6f3e8cc1\">\n",
       "    <div class=\"colab-df-container\">\n",
       "      <div>\n",
       "<style scoped>\n",
       "    .dataframe tbody tr th:only-of-type {\n",
       "        vertical-align: middle;\n",
       "    }\n",
       "\n",
       "    .dataframe tbody tr th {\n",
       "        vertical-align: top;\n",
       "    }\n",
       "\n",
       "    .dataframe thead th {\n",
       "        text-align: right;\n",
       "    }\n",
       "</style>\n",
       "<table border=\"1\" class=\"dataframe\">\n",
       "  <thead>\n",
       "    <tr style=\"text-align: right;\">\n",
       "      <th></th>\n",
       "      <th>netTaxableValue</th>\n",
       "    </tr>\n",
       "    <tr>\n",
       "      <th>GeneralUseType</th>\n",
       "      <th></th>\n",
       "    </tr>\n",
       "  </thead>\n",
       "  <tbody>\n",
       "    <tr>\n",
       "      <th>Commercial</th>\n",
       "      <td>2.985101e+06</td>\n",
       "    </tr>\n",
       "    <tr>\n",
       "      <th>Industrial</th>\n",
       "      <td>7.081840e+06</td>\n",
       "    </tr>\n",
       "    <tr>\n",
       "      <th>Institutional</th>\n",
       "      <td>3.057823e+06</td>\n",
       "    </tr>\n",
       "    <tr>\n",
       "      <th>Irrigated Farm</th>\n",
       "      <td>9.219500e+04</td>\n",
       "    </tr>\n",
       "    <tr>\n",
       "      <th>Recreational</th>\n",
       "      <td>1.373525e+06</td>\n",
       "    </tr>\n",
       "    <tr>\n",
       "      <th>Residential</th>\n",
       "      <td>6.198165e+05</td>\n",
       "    </tr>\n",
       "  </tbody>\n",
       "</table>\n",
       "</div>\n",
       "      <button class=\"colab-df-convert\" onclick=\"convertToInteractive('df-cc60d4f3-7f51-47f6-bc6f-55ee6f3e8cc1')\"\n",
       "              title=\"Convert this dataframe to an interactive table.\"\n",
       "              style=\"display:none;\">\n",
       "        \n",
       "  <svg xmlns=\"http://www.w3.org/2000/svg\" height=\"24px\"viewBox=\"0 0 24 24\"\n",
       "       width=\"24px\">\n",
       "    <path d=\"M0 0h24v24H0V0z\" fill=\"none\"/>\n",
       "    <path d=\"M18.56 5.44l.94 2.06.94-2.06 2.06-.94-2.06-.94-.94-2.06-.94 2.06-2.06.94zm-11 1L8.5 8.5l.94-2.06 2.06-.94-2.06-.94L8.5 2.5l-.94 2.06-2.06.94zm10 10l.94 2.06.94-2.06 2.06-.94-2.06-.94-.94-2.06-.94 2.06-2.06.94z\"/><path d=\"M17.41 7.96l-1.37-1.37c-.4-.4-.92-.59-1.43-.59-.52 0-1.04.2-1.43.59L10.3 9.45l-7.72 7.72c-.78.78-.78 2.05 0 2.83L4 21.41c.39.39.9.59 1.41.59.51 0 1.02-.2 1.41-.59l7.78-7.78 2.81-2.81c.8-.78.8-2.07 0-2.86zM5.41 20L4 18.59l7.72-7.72 1.47 1.35L5.41 20z\"/>\n",
       "  </svg>\n",
       "      </button>\n",
       "      \n",
       "  <style>\n",
       "    .colab-df-container {\n",
       "      display:flex;\n",
       "      flex-wrap:wrap;\n",
       "      gap: 12px;\n",
       "    }\n",
       "\n",
       "    .colab-df-convert {\n",
       "      background-color: #E8F0FE;\n",
       "      border: none;\n",
       "      border-radius: 50%;\n",
       "      cursor: pointer;\n",
       "      display: none;\n",
       "      fill: #1967D2;\n",
       "      height: 32px;\n",
       "      padding: 0 0 0 0;\n",
       "      width: 32px;\n",
       "    }\n",
       "\n",
       "    .colab-df-convert:hover {\n",
       "      background-color: #E2EBFA;\n",
       "      box-shadow: 0px 1px 2px rgba(60, 64, 67, 0.3), 0px 1px 3px 1px rgba(60, 64, 67, 0.15);\n",
       "      fill: #174EA6;\n",
       "    }\n",
       "\n",
       "    [theme=dark] .colab-df-convert {\n",
       "      background-color: #3B4455;\n",
       "      fill: #D2E3FC;\n",
       "    }\n",
       "\n",
       "    [theme=dark] .colab-df-convert:hover {\n",
       "      background-color: #434B5C;\n",
       "      box-shadow: 0px 1px 3px 1px rgba(0, 0, 0, 0.15);\n",
       "      filter: drop-shadow(0px 1px 2px rgba(0, 0, 0, 0.3));\n",
       "      fill: #FFFFFF;\n",
       "    }\n",
       "  </style>\n",
       "\n",
       "      <script>\n",
       "        const buttonEl =\n",
       "          document.querySelector('#df-cc60d4f3-7f51-47f6-bc6f-55ee6f3e8cc1 button.colab-df-convert');\n",
       "        buttonEl.style.display =\n",
       "          google.colab.kernel.accessAllowed ? 'block' : 'none';\n",
       "\n",
       "        async function convertToInteractive(key) {\n",
       "          const element = document.querySelector('#df-cc60d4f3-7f51-47f6-bc6f-55ee6f3e8cc1');\n",
       "          const dataTable =\n",
       "            await google.colab.kernel.invokeFunction('convertToInteractive',\n",
       "                                                     [key], {});\n",
       "          if (!dataTable) return;\n",
       "\n",
       "          const docLinkHtml = 'Like what you see? Visit the ' +\n",
       "            '<a target=\"_blank\" href=https://colab.research.google.com/notebooks/data_table.ipynb>data table notebook</a>'\n",
       "            + ' to learn more about interactive tables.';\n",
       "          element.innerHTML = '';\n",
       "          dataTable['output_type'] = 'display_data';\n",
       "          await google.colab.output.renderOutput(dataTable, element);\n",
       "          const docLink = document.createElement('div');\n",
       "          docLink.innerHTML = docLinkHtml;\n",
       "          element.appendChild(docLink);\n",
       "        }\n",
       "      </script>\n",
       "    </div>\n",
       "  </div>\n",
       "  "
      ],
      "text/plain": [
       "                netTaxableValue\n",
       "GeneralUseType                 \n",
       "Commercial         2.985101e+06\n",
       "Industrial         7.081840e+06\n",
       "Institutional      3.057823e+06\n",
       "Irrigated Farm     9.219500e+04\n",
       "Recreational       1.373525e+06\n",
       "Residential        6.198165e+05"
      ]
     },
     "execution_count": 279,
     "metadata": {},
     "output_type": "execute_result"
    }
   ],
   "source": [
    "# making Group by GeneralUseType\n",
    "ave_GeneralUseType = dataset.drop(['ID','SQFTmain','Bedrooms','Bathrooms','Units','EffectiveYear','PropertyType Map'], axis=1).groupby(\"GeneralUseType\").mean()\n",
    "ave_GeneralUseType"
   ]
  },
  {
   "cell_type": "code",
   "execution_count": null,
   "metadata": {
    "colab": {
     "base_uri": "https://localhost:8080/",
     "height": 695
    },
    "id": "r_VBw97wINMq",
    "outputId": "0c33977c-31c2-4eb9-dd50-2c9ee630199f"
   },
   "outputs": [
    {
     "data": {
      "text/plain": [
       "<matplotlib.axes._subplots.AxesSubplot at 0x7f49f2169fd0>"
      ]
     },
     "execution_count": 280,
     "metadata": {},
     "output_type": "execute_result"
    },
    {
     "data": {
      "image/png": "[encoded data removed]",
      "text/plain": [
       "<Figure size 1440x720 with 1 Axes>"
      ]
     },
     "metadata": {
      "needs_background": "light"
     },
     "output_type": "display_data"
    }
   ],
   "source": [
    "# graph the group by PropertyType\n",
    "ave_GeneralUseType.plot(kind=\"bar\",figsize=(20,10))"
   ]
  },
  {
   "cell_type": "code",
   "execution_count": null,
   "metadata": {
    "id": "YX50AE1fmXX5"
   },
   "outputs": [],
   "source": [
    "# From the plot, set Industrial Type as 1, the other as 0\n",
    "GeneralUseTypeDict={'Residential':0, 'Industrial':1, 'Commercial':0, 'Institutional':0, 'Recreational':0, 'Irrigated Farm':0}\n",
    "dataset['GeneralUseType Map']=dataset['GeneralUseType'].map(GeneralUseTypeDict)"
   ]
  },
  {
   "cell_type": "markdown",
   "metadata": {
    "id": "XwmMaGZuJXEi"
   },
   "source": [
    "### 2.2.3 isTaxableParcel"
   ]
  },
  {
   "cell_type": "code",
   "execution_count": null,
   "metadata": {
    "colab": {
     "base_uri": "https://localhost:8080/"
    },
    "id": "PGKT8dRSJWsF",
    "outputId": "24727a59-6e0f-4ef6-8b35-3e18d17d8613"
   },
   "outputs": [
    {
     "name": "stdout",
     "output_type": "stream",
     "text": [
      "isTaxableParcel ['Y']\n"
     ]
    }
   ],
   "source": [
    "print(\"isTaxableParcel\",dataset[\"isTaxableParcel\"].unique())"
   ]
  },
  {
   "cell_type": "code",
   "execution_count": null,
   "metadata": {
    "id": "WriURyHemdRI"
   },
   "outputs": [],
   "source": [
    "dataset['isTaxableParcel'].drop_duplicates()\n",
    "isTaxableParcelDict={'Y':1,'N':0}\n",
    "dataset['isTaxableParcel Map']=dataset['isTaxableParcel'].map(isTaxableParcelDict)"
   ]
  },
  {
   "cell_type": "markdown",
   "metadata": {
    "id": "ReqDqWfLUwRi"
   },
   "source": [
    "### 2.2.4 AdministrativeRegion"
   ]
  },
  {
   "cell_type": "code",
   "execution_count": null,
   "metadata": {
    "colab": {
     "base_uri": "https://localhost:8080/"
    },
    "id": "AkZ_ZG6Jm4Oh",
    "outputId": "21a8cc70-b4b3-4aa7-f520-0000af8d2f2a"
   },
   "outputs": [
    {
     "name": "stdout",
     "output_type": "stream",
     "text": [
      "AdministrativeRegion ['11' '05' 'B1' 'A1' '02' '14' '04' '03' '09' '06' '12' '10' '25' '23'\n",
      " '07' '24' '26' '27' '28' '30']\n"
     ]
    }
   ],
   "source": [
    "print(\"AdministrativeRegion\",dataset[\"AdministrativeRegion\"].unique())"
   ]
  },
  {
   "cell_type": "code",
   "execution_count": null,
   "metadata": {
    "colab": {
     "base_uri": "https://localhost:8080/",
     "height": 708
    },
    "id": "ELlS7WOiU9SX",
    "outputId": "f1332a00-d00e-47aa-deda-bddf4be280ba"
   },
   "outputs": [
    {
     "data": {
      "text/html": [
       "\n",
       "  <div id=\"df-bed75acd-6b5a-489c-a53d-37f5b63257f8\">\n",
       "    <div class=\"colab-df-container\">\n",
       "      <div>\n",
       "<style scoped>\n",
       "    .dataframe tbody tr th:only-of-type {\n",
       "        vertical-align: middle;\n",
       "    }\n",
       "\n",
       "    .dataframe tbody tr th {\n",
       "        vertical-align: top;\n",
       "    }\n",
       "\n",
       "    .dataframe thead th {\n",
       "        text-align: right;\n",
       "    }\n",
       "</style>\n",
       "<table border=\"1\" class=\"dataframe\">\n",
       "  <thead>\n",
       "    <tr style=\"text-align: right;\">\n",
       "      <th></th>\n",
       "      <th>netTaxableValue</th>\n",
       "    </tr>\n",
       "    <tr>\n",
       "      <th>AdministrativeRegion</th>\n",
       "      <th></th>\n",
       "    </tr>\n",
       "  </thead>\n",
       "  <tbody>\n",
       "    <tr>\n",
       "      <th>02</th>\n",
       "      <td>7.405737e+05</td>\n",
       "    </tr>\n",
       "    <tr>\n",
       "      <th>03</th>\n",
       "      <td>6.352210e+05</td>\n",
       "    </tr>\n",
       "    <tr>\n",
       "      <th>04</th>\n",
       "      <td>5.909459e+05</td>\n",
       "    </tr>\n",
       "    <tr>\n",
       "      <th>05</th>\n",
       "      <td>5.948187e+05</td>\n",
       "    </tr>\n",
       "    <tr>\n",
       "      <th>06</th>\n",
       "      <td>4.044823e+05</td>\n",
       "    </tr>\n",
       "    <tr>\n",
       "      <th>07</th>\n",
       "      <td>1.618111e+06</td>\n",
       "    </tr>\n",
       "    <tr>\n",
       "      <th>09</th>\n",
       "      <td>6.564261e+05</td>\n",
       "    </tr>\n",
       "    <tr>\n",
       "      <th>10</th>\n",
       "      <td>4.316973e+05</td>\n",
       "    </tr>\n",
       "    <tr>\n",
       "      <th>11</th>\n",
       "      <td>3.366207e+05</td>\n",
       "    </tr>\n",
       "    <tr>\n",
       "      <th>12</th>\n",
       "      <td>3.389916e+05</td>\n",
       "    </tr>\n",
       "    <tr>\n",
       "      <th>14</th>\n",
       "      <td>6.996086e+05</td>\n",
       "    </tr>\n",
       "    <tr>\n",
       "      <th>23</th>\n",
       "      <td>1.157111e+07</td>\n",
       "    </tr>\n",
       "    <tr>\n",
       "      <th>24</th>\n",
       "      <td>1.300209e+06</td>\n",
       "    </tr>\n",
       "    <tr>\n",
       "      <th>25</th>\n",
       "      <td>2.518107e+06</td>\n",
       "    </tr>\n",
       "    <tr>\n",
       "      <th>26</th>\n",
       "      <td>6.061910e+06</td>\n",
       "    </tr>\n",
       "    <tr>\n",
       "      <th>27</th>\n",
       "      <td>2.017844e+06</td>\n",
       "    </tr>\n",
       "    <tr>\n",
       "      <th>28</th>\n",
       "      <td>8.261123e+06</td>\n",
       "    </tr>\n",
       "    <tr>\n",
       "      <th>30</th>\n",
       "      <td>2.975889e+06</td>\n",
       "    </tr>\n",
       "    <tr>\n",
       "      <th>A1</th>\n",
       "      <td>2.528595e+05</td>\n",
       "    </tr>\n",
       "    <tr>\n",
       "      <th>B1</th>\n",
       "      <td>4.772980e+05</td>\n",
       "    </tr>\n",
       "  </tbody>\n",
       "</table>\n",
       "</div>\n",
       "      <button class=\"colab-df-convert\" onclick=\"convertToInteractive('df-bed75acd-6b5a-489c-a53d-37f5b63257f8')\"\n",
       "              title=\"Convert this dataframe to an interactive table.\"\n",
       "              style=\"display:none;\">\n",
       "        \n",
       "  <svg xmlns=\"http://www.w3.org/2000/svg\" height=\"24px\"viewBox=\"0 0 24 24\"\n",
       "       width=\"24px\">\n",
       "    <path d=\"M0 0h24v24H0V0z\" fill=\"none\"/>\n",
       "    <path d=\"M18.56 5.44l.94 2.06.94-2.06 2.06-.94-2.06-.94-.94-2.06-.94 2.06-2.06.94zm-11 1L8.5 8.5l.94-2.06 2.06-.94-2.06-.94L8.5 2.5l-.94 2.06-2.06.94zm10 10l.94 2.06.94-2.06 2.06-.94-2.06-.94-.94-2.06-.94 2.06-2.06.94z\"/><path d=\"M17.41 7.96l-1.37-1.37c-.4-.4-.92-.59-1.43-.59-.52 0-1.04.2-1.43.59L10.3 9.45l-7.72 7.72c-.78.78-.78 2.05 0 2.83L4 21.41c.39.39.9.59 1.41.59.51 0 1.02-.2 1.41-.59l7.78-7.78 2.81-2.81c.8-.78.8-2.07 0-2.86zM5.41 20L4 18.59l7.72-7.72 1.47 1.35L5.41 20z\"/>\n",
       "  </svg>\n",
       "      </button>\n",
       "      \n",
       "  <style>\n",
       "    .colab-df-container {\n",
       "      display:flex;\n",
       "      flex-wrap:wrap;\n",
       "      gap: 12px;\n",
       "    }\n",
       "\n",
       "    .colab-df-convert {\n",
       "      background-color: #E8F0FE;\n",
       "      border: none;\n",
       "      border-radius: 50%;\n",
       "      cursor: pointer;\n",
       "      display: none;\n",
       "      fill: #1967D2;\n",
       "      height: 32px;\n",
       "      padding: 0 0 0 0;\n",
       "      width: 32px;\n",
       "    }\n",
       "\n",
       "    .colab-df-convert:hover {\n",
       "      background-color: #E2EBFA;\n",
       "      box-shadow: 0px 1px 2px rgba(60, 64, 67, 0.3), 0px 1px 3px 1px rgba(60, 64, 67, 0.15);\n",
       "      fill: #174EA6;\n",
       "    }\n",
       "\n",
       "    [theme=dark] .colab-df-convert {\n",
       "      background-color: #3B4455;\n",
       "      fill: #D2E3FC;\n",
       "    }\n",
       "\n",
       "    [theme=dark] .colab-df-convert:hover {\n",
       "      background-color: #434B5C;\n",
       "      box-shadow: 0px 1px 3px 1px rgba(0, 0, 0, 0.15);\n",
       "      filter: drop-shadow(0px 1px 2px rgba(0, 0, 0, 0.3));\n",
       "      fill: #FFFFFF;\n",
       "    }\n",
       "  </style>\n",
       "\n",
       "      <script>\n",
       "        const buttonEl =\n",
       "          document.querySelector('#df-bed75acd-6b5a-489c-a53d-37f5b63257f8 button.colab-df-convert');\n",
       "        buttonEl.style.display =\n",
       "          google.colab.kernel.accessAllowed ? 'block' : 'none';\n",
       "\n",
       "        async function convertToInteractive(key) {\n",
       "          const element = document.querySelector('#df-bed75acd-6b5a-489c-a53d-37f5b63257f8');\n",
       "          const dataTable =\n",
       "            await google.colab.kernel.invokeFunction('convertToInteractive',\n",
       "                                                     [key], {});\n",
       "          if (!dataTable) return;\n",
       "\n",
       "          const docLinkHtml = 'Like what you see? Visit the ' +\n",
       "            '<a target=\"_blank\" href=https://colab.research.google.com/notebooks/data_table.ipynb>data table notebook</a>'\n",
       "            + ' to learn more about interactive tables.';\n",
       "          element.innerHTML = '';\n",
       "          dataTable['output_type'] = 'display_data';\n",
       "          await google.colab.output.renderOutput(dataTable, element);\n",
       "          const docLink = document.createElement('div');\n",
       "          docLink.innerHTML = docLinkHtml;\n",
       "          element.appendChild(docLink);\n",
       "        }\n",
       "      </script>\n",
       "    </div>\n",
       "  </div>\n",
       "  "
      ],
      "text/plain": [
       "                      netTaxableValue\n",
       "AdministrativeRegion                 \n",
       "02                       7.405737e+05\n",
       "03                       6.352210e+05\n",
       "04                       5.909459e+05\n",
       "05                       5.948187e+05\n",
       "06                       4.044823e+05\n",
       "07                       1.618111e+06\n",
       "09                       6.564261e+05\n",
       "10                       4.316973e+05\n",
       "11                       3.366207e+05\n",
       "12                       3.389916e+05\n",
       "14                       6.996086e+05\n",
       "23                       1.157111e+07\n",
       "24                       1.300209e+06\n",
       "25                       2.518107e+06\n",
       "26                       6.061910e+06\n",
       "27                       2.017844e+06\n",
       "28                       8.261123e+06\n",
       "30                       2.975889e+06\n",
       "A1                       2.528595e+05\n",
       "B1                       4.772980e+05"
      ]
     },
     "execution_count": 285,
     "metadata": {},
     "output_type": "execute_result"
    }
   ],
   "source": [
    "# making Group by AdministrativeRegion\n",
    "ave_AdministrativeRegion = dataset.drop(['ID','SQFTmain','Bedrooms','Bathrooms','Units','EffectiveYear','PropertyType Map','isTaxableParcel Map','GeneralUseType Map'], axis=1).groupby(\"AdministrativeRegion\").mean()\n",
    "ave_AdministrativeRegion"
   ]
  },
  {
   "cell_type": "code",
   "execution_count": null,
   "metadata": {
    "colab": {
     "base_uri": "https://localhost:8080/",
     "height": 638
    },
    "id": "VVE5OaMJVG4K",
    "outputId": "f80c58f1-2249-4dfe-d243-394f8ca2719a"
   },
   "outputs": [
    {
     "data": {
      "text/plain": [
       "<matplotlib.axes._subplots.AxesSubplot at 0x7f49ef5bec10>"
      ]
     },
     "execution_count": 286,
     "metadata": {},
     "output_type": "execute_result"
    },
    {
     "data": {
      "image/png": "[encoded data removed]",
      "text/plain": [
       "<Figure size 1440x720 with 1 Axes>"
      ]
     },
     "metadata": {
      "needs_background": "light"
     },
     "output_type": "display_data"
    }
   ],
   "source": [
    "# graph the group by PropertyType\n",
    "ave_AdministrativeRegion.plot(kind=\"bar\",figsize=(20,10))"
   ]
  },
  {
   "cell_type": "code",
   "execution_count": null,
   "metadata": {
    "id": "wPshkgjam8gl"
   },
   "outputs": [],
   "source": [
    "# set \"23\" Type as 2; \"26\" Type and \"28\" Type as 1; the others as 0\n",
    "dataset['AdministrativeRegion'].drop_duplicates()\n",
    "AdministrativeRegionDict={'11':0, '05':0, 'B1':0, 'A1':0, '02':0, '14':0, '04':0, '03':0, '09':0, '06':0, '12':0,\n",
    "                          '10':0, '25':0, '23':2,'07':0, '24':0, '26':1, '27':0, '28':1, '30':0}\n",
    "dataset['AdministrativeRegion Map']=dataset['AdministrativeRegion'].map(AdministrativeRegionDict)"
   ]
  },
  {
   "cell_type": "code",
   "execution_count": null,
   "metadata": {
    "colab": {
     "base_uri": "https://localhost:8080/",
     "height": 423
    },
    "id": "kZaD1OuMp6pP",
    "outputId": "d9eff185-8eaf-4068-fe84-3fa4c37627e3"
   },
   "outputs": [
    {
     "data": {
      "text/html": [
       "\n",
       "  <div id=\"df-58492dee-443b-4978-ad2e-bba0b94658b8\">\n",
       "    <div class=\"colab-df-container\">\n",
       "      <div>\n",
       "<style scoped>\n",
       "    .dataframe tbody tr th:only-of-type {\n",
       "        vertical-align: middle;\n",
       "    }\n",
       "\n",
       "    .dataframe tbody tr th {\n",
       "        vertical-align: top;\n",
       "    }\n",
       "\n",
       "    .dataframe thead th {\n",
       "        text-align: right;\n",
       "    }\n",
       "</style>\n",
       "<table border=\"1\" class=\"dataframe\">\n",
       "  <thead>\n",
       "    <tr style=\"text-align: right;\">\n",
       "      <th></th>\n",
       "      <th>netTaxableValue</th>\n",
       "      <th>EffectiveYear</th>\n",
       "      <th>SQFTmain</th>\n",
       "      <th>Bedrooms</th>\n",
       "      <th>Bathrooms</th>\n",
       "      <th>Units</th>\n",
       "      <th>PropertyType Map</th>\n",
       "      <th>GeneralUseType Map</th>\n",
       "      <th>isTaxableParcel Map</th>\n",
       "      <th>AdministrativeRegion Map</th>\n",
       "    </tr>\n",
       "  </thead>\n",
       "  <tbody>\n",
       "    <tr>\n",
       "      <th>0</th>\n",
       "      <td>198373.0</td>\n",
       "      <td>81.0</td>\n",
       "      <td>1629.0</td>\n",
       "      <td>2</td>\n",
       "      <td>2</td>\n",
       "      <td>1</td>\n",
       "      <td>0</td>\n",
       "      <td>0</td>\n",
       "      <td>1</td>\n",
       "      <td>0</td>\n",
       "    </tr>\n",
       "    <tr>\n",
       "      <th>1</th>\n",
       "      <td>74690.0</td>\n",
       "      <td>72.0</td>\n",
       "      <td>840.0</td>\n",
       "      <td>2</td>\n",
       "      <td>1</td>\n",
       "      <td>1</td>\n",
       "      <td>0</td>\n",
       "      <td>0</td>\n",
       "      <td>1</td>\n",
       "      <td>0</td>\n",
       "    </tr>\n",
       "    <tr>\n",
       "      <th>2</th>\n",
       "      <td>878836.0</td>\n",
       "      <td>73.0</td>\n",
       "      <td>1511.0</td>\n",
       "      <td>3</td>\n",
       "      <td>2</td>\n",
       "      <td>1</td>\n",
       "      <td>0</td>\n",
       "      <td>0</td>\n",
       "      <td>1</td>\n",
       "      <td>0</td>\n",
       "    </tr>\n",
       "    <tr>\n",
       "      <th>3</th>\n",
       "      <td>423186.0</td>\n",
       "      <td>46.0</td>\n",
       "      <td>2387.0</td>\n",
       "      <td>5</td>\n",
       "      <td>3</td>\n",
       "      <td>1</td>\n",
       "      <td>0</td>\n",
       "      <td>0</td>\n",
       "      <td>1</td>\n",
       "      <td>0</td>\n",
       "    </tr>\n",
       "    <tr>\n",
       "      <th>4</th>\n",
       "      <td>535154.0</td>\n",
       "      <td>20.0</td>\n",
       "      <td>3262.0</td>\n",
       "      <td>5</td>\n",
       "      <td>3</td>\n",
       "      <td>1</td>\n",
       "      <td>0</td>\n",
       "      <td>0</td>\n",
       "      <td>1</td>\n",
       "      <td>0</td>\n",
       "    </tr>\n",
       "    <tr>\n",
       "      <th>...</th>\n",
       "      <td>...</td>\n",
       "      <td>...</td>\n",
       "      <td>...</td>\n",
       "      <td>...</td>\n",
       "      <td>...</td>\n",
       "      <td>...</td>\n",
       "      <td>...</td>\n",
       "      <td>...</td>\n",
       "      <td>...</td>\n",
       "      <td>...</td>\n",
       "    </tr>\n",
       "    <tr>\n",
       "      <th>2995</th>\n",
       "      <td>489735.0</td>\n",
       "      <td>47.0</td>\n",
       "      <td>2792.0</td>\n",
       "      <td>5</td>\n",
       "      <td>3</td>\n",
       "      <td>1</td>\n",
       "      <td>0</td>\n",
       "      <td>0</td>\n",
       "      <td>1</td>\n",
       "      <td>0</td>\n",
       "    </tr>\n",
       "    <tr>\n",
       "      <th>2996</th>\n",
       "      <td>361485.0</td>\n",
       "      <td>25.0</td>\n",
       "      <td>2116.0</td>\n",
       "      <td>4</td>\n",
       "      <td>3</td>\n",
       "      <td>1</td>\n",
       "      <td>0</td>\n",
       "      <td>0</td>\n",
       "      <td>1</td>\n",
       "      <td>0</td>\n",
       "    </tr>\n",
       "    <tr>\n",
       "      <th>2997</th>\n",
       "      <td>393000.0</td>\n",
       "      <td>67.0</td>\n",
       "      <td>2532.0</td>\n",
       "      <td>3</td>\n",
       "      <td>2</td>\n",
       "      <td>1</td>\n",
       "      <td>0</td>\n",
       "      <td>0</td>\n",
       "      <td>1</td>\n",
       "      <td>0</td>\n",
       "    </tr>\n",
       "    <tr>\n",
       "      <th>2998</th>\n",
       "      <td>293107.0</td>\n",
       "      <td>33.0</td>\n",
       "      <td>1540.0</td>\n",
       "      <td>3</td>\n",
       "      <td>3</td>\n",
       "      <td>1</td>\n",
       "      <td>0</td>\n",
       "      <td>0</td>\n",
       "      <td>1</td>\n",
       "      <td>0</td>\n",
       "    </tr>\n",
       "    <tr>\n",
       "      <th>2999</th>\n",
       "      <td>185764.0</td>\n",
       "      <td>60.0</td>\n",
       "      <td>1268.0</td>\n",
       "      <td>3</td>\n",
       "      <td>2</td>\n",
       "      <td>1</td>\n",
       "      <td>0</td>\n",
       "      <td>0</td>\n",
       "      <td>1</td>\n",
       "      <td>0</td>\n",
       "    </tr>\n",
       "  </tbody>\n",
       "</table>\n",
       "<p>3000 rows × 10 columns</p>\n",
       "</div>\n",
       "      <button class=\"colab-df-convert\" onclick=\"convertToInteractive('df-58492dee-443b-4978-ad2e-bba0b94658b8')\"\n",
       "              title=\"Convert this dataframe to an interactive table.\"\n",
       "              style=\"display:none;\">\n",
       "        \n",
       "  <svg xmlns=\"http://www.w3.org/2000/svg\" height=\"24px\"viewBox=\"0 0 24 24\"\n",
       "       width=\"24px\">\n",
       "    <path d=\"M0 0h24v24H0V0z\" fill=\"none\"/>\n",
       "    <path d=\"M18.56 5.44l.94 2.06.94-2.06 2.06-.94-2.06-.94-.94-2.06-.94 2.06-2.06.94zm-11 1L8.5 8.5l.94-2.06 2.06-.94-2.06-.94L8.5 2.5l-.94 2.06-2.06.94zm10 10l.94 2.06.94-2.06 2.06-.94-2.06-.94-.94-2.06-.94 2.06-2.06.94z\"/><path d=\"M17.41 7.96l-1.37-1.37c-.4-.4-.92-.59-1.43-.59-.52 0-1.04.2-1.43.59L10.3 9.45l-7.72 7.72c-.78.78-.78 2.05 0 2.83L4 21.41c.39.39.9.59 1.41.59.51 0 1.02-.2 1.41-.59l7.78-7.78 2.81-2.81c.8-.78.8-2.07 0-2.86zM5.41 20L4 18.59l7.72-7.72 1.47 1.35L5.41 20z\"/>\n",
       "  </svg>\n",
       "      </button>\n",
       "      \n",
       "  <style>\n",
       "    .colab-df-container {\n",
       "      display:flex;\n",
       "      flex-wrap:wrap;\n",
       "      gap: 12px;\n",
       "    }\n",
       "\n",
       "    .colab-df-convert {\n",
       "      background-color: #E8F0FE;\n",
       "      border: none;\n",
       "      border-radius: 50%;\n",
       "      cursor: pointer;\n",
       "      display: none;\n",
       "      fill: #1967D2;\n",
       "      height: 32px;\n",
       "      padding: 0 0 0 0;\n",
       "      width: 32px;\n",
       "    }\n",
       "\n",
       "    .colab-df-convert:hover {\n",
       "      background-color: #E2EBFA;\n",
       "      box-shadow: 0px 1px 2px rgba(60, 64, 67, 0.3), 0px 1px 3px 1px rgba(60, 64, 67, 0.15);\n",
       "      fill: #174EA6;\n",
       "    }\n",
       "\n",
       "    [theme=dark] .colab-df-convert {\n",
       "      background-color: #3B4455;\n",
       "      fill: #D2E3FC;\n",
       "    }\n",
       "\n",
       "    [theme=dark] .colab-df-convert:hover {\n",
       "      background-color: #434B5C;\n",
       "      box-shadow: 0px 1px 3px 1px rgba(0, 0, 0, 0.15);\n",
       "      filter: drop-shadow(0px 1px 2px rgba(0, 0, 0, 0.3));\n",
       "      fill: #FFFFFF;\n",
       "    }\n",
       "  </style>\n",
       "\n",
       "      <script>\n",
       "        const buttonEl =\n",
       "          document.querySelector('#df-58492dee-443b-4978-ad2e-bba0b94658b8 button.colab-df-convert');\n",
       "        buttonEl.style.display =\n",
       "          google.colab.kernel.accessAllowed ? 'block' : 'none';\n",
       "\n",
       "        async function convertToInteractive(key) {\n",
       "          const element = document.querySelector('#df-58492dee-443b-4978-ad2e-bba0b94658b8');\n",
       "          const dataTable =\n",
       "            await google.colab.kernel.invokeFunction('convertToInteractive',\n",
       "                                                     [key], {});\n",
       "          if (!dataTable) return;\n",
       "\n",
       "          const docLinkHtml = 'Like what you see? Visit the ' +\n",
       "            '<a target=\"_blank\" href=https://colab.research.google.com/notebooks/data_table.ipynb>data table notebook</a>'\n",
       "            + ' to learn more about interactive tables.';\n",
       "          element.innerHTML = '';\n",
       "          dataTable['output_type'] = 'display_data';\n",
       "          await google.colab.output.renderOutput(dataTable, element);\n",
       "          const docLink = document.createElement('div');\n",
       "          docLink.innerHTML = docLinkHtml;\n",
       "          element.appendChild(docLink);\n",
       "        }\n",
       "      </script>\n",
       "    </div>\n",
       "  </div>\n",
       "  "
      ],
      "text/plain": [
       "      netTaxableValue  EffectiveYear  SQFTmain  Bedrooms  Bathrooms  Units  \\\n",
       "0            198373.0           81.0    1629.0         2          2      1   \n",
       "1             74690.0           72.0     840.0         2          1      1   \n",
       "2            878836.0           73.0    1511.0         3          2      1   \n",
       "3            423186.0           46.0    2387.0         5          3      1   \n",
       "4            535154.0           20.0    3262.0         5          3      1   \n",
       "...               ...            ...       ...       ...        ...    ...   \n",
       "2995         489735.0           47.0    2792.0         5          3      1   \n",
       "2996         361485.0           25.0    2116.0         4          3      1   \n",
       "2997         393000.0           67.0    2532.0         3          2      1   \n",
       "2998         293107.0           33.0    1540.0         3          3      1   \n",
       "2999         185764.0           60.0    1268.0         3          2      1   \n",
       "\n",
       "      PropertyType Map  GeneralUseType Map  isTaxableParcel Map  \\\n",
       "0                    0                   0                    1   \n",
       "1                    0                   0                    1   \n",
       "2                    0                   0                    1   \n",
       "3                    0                   0                    1   \n",
       "4                    0                   0                    1   \n",
       "...                ...                 ...                  ...   \n",
       "2995                 0                   0                    1   \n",
       "2996                 0                   0                    1   \n",
       "2997                 0                   0                    1   \n",
       "2998                 0                   0                    1   \n",
       "2999                 0                   0                    1   \n",
       "\n",
       "      AdministrativeRegion Map  \n",
       "0                            0  \n",
       "1                            0  \n",
       "2                            0  \n",
       "3                            0  \n",
       "4                            0  \n",
       "...                        ...  \n",
       "2995                         0  \n",
       "2996                         0  \n",
       "2997                         0  \n",
       "2998                         0  \n",
       "2999                         0  \n",
       "\n",
       "[3000 rows x 10 columns]"
      ]
     },
     "execution_count": 288,
     "metadata": {},
     "output_type": "execute_result"
    }
   ],
   "source": [
    "datanew= dataset[['netTaxableValue','EffectiveYear','SQFTmain','Bedrooms','Bathrooms','Units','PropertyType Map','GeneralUseType Map','isTaxableParcel Map','AdministrativeRegion Map']]\n",
    "datanew.to_csv('datanew.csv')\n",
    "datanew"
   ]
  },
  {
   "cell_type": "markdown",
   "metadata": {
    "id": "pZKDV3e8A0Io"
   },
   "source": []
  },
  {
   "cell_type": "markdown",
   "metadata": {
    "id": "khovPM-Tm63_"
   },
   "source": [
    "## 2.3 Missing Value Check"
   ]
  },
  {
   "cell_type": "code",
   "execution_count": null,
   "metadata": {
    "colab": {
     "base_uri": "https://localhost:8080/",
     "height": 363
    },
    "id": "7gDcpGKArxed",
    "outputId": "289fa0fe-966c-42bc-92f4-0bab400d7169"
   },
   "outputs": [
    {
     "data": {
      "text/html": [
       "\n",
       "  <div id=\"df-e883462a-84a6-42a8-b285-66f5c3bc0e79\">\n",
       "    <div class=\"colab-df-container\">\n",
       "      <div>\n",
       "<style scoped>\n",
       "    .dataframe tbody tr th:only-of-type {\n",
       "        vertical-align: middle;\n",
       "    }\n",
       "\n",
       "    .dataframe tbody tr th {\n",
       "        vertical-align: top;\n",
       "    }\n",
       "\n",
       "    .dataframe thead th {\n",
       "        text-align: right;\n",
       "    }\n",
       "</style>\n",
       "<table border=\"1\" class=\"dataframe\">\n",
       "  <thead>\n",
       "    <tr style=\"text-align: right;\">\n",
       "      <th></th>\n",
       "      <th>Missing Values</th>\n",
       "    </tr>\n",
       "  </thead>\n",
       "  <tbody>\n",
       "    <tr>\n",
       "      <th>netTaxableValue</th>\n",
       "      <td>0</td>\n",
       "    </tr>\n",
       "    <tr>\n",
       "      <th>EffectiveYear</th>\n",
       "      <td>0</td>\n",
       "    </tr>\n",
       "    <tr>\n",
       "      <th>SQFTmain</th>\n",
       "      <td>0</td>\n",
       "    </tr>\n",
       "    <tr>\n",
       "      <th>Bedrooms</th>\n",
       "      <td>0</td>\n",
       "    </tr>\n",
       "    <tr>\n",
       "      <th>Bathrooms</th>\n",
       "      <td>0</td>\n",
       "    </tr>\n",
       "    <tr>\n",
       "      <th>Units</th>\n",
       "      <td>0</td>\n",
       "    </tr>\n",
       "    <tr>\n",
       "      <th>PropertyType Map</th>\n",
       "      <td>0</td>\n",
       "    </tr>\n",
       "    <tr>\n",
       "      <th>GeneralUseType Map</th>\n",
       "      <td>0</td>\n",
       "    </tr>\n",
       "    <tr>\n",
       "      <th>isTaxableParcel Map</th>\n",
       "      <td>0</td>\n",
       "    </tr>\n",
       "    <tr>\n",
       "      <th>AdministrativeRegion Map</th>\n",
       "      <td>0</td>\n",
       "    </tr>\n",
       "  </tbody>\n",
       "</table>\n",
       "</div>\n",
       "      <button class=\"colab-df-convert\" onclick=\"convertToInteractive('df-e883462a-84a6-42a8-b285-66f5c3bc0e79')\"\n",
       "              title=\"Convert this dataframe to an interactive table.\"\n",
       "              style=\"display:none;\">\n",
       "        \n",
       "  <svg xmlns=\"http://www.w3.org/2000/svg\" height=\"24px\"viewBox=\"0 0 24 24\"\n",
       "       width=\"24px\">\n",
       "    <path d=\"M0 0h24v24H0V0z\" fill=\"none\"/>\n",
       "    <path d=\"M18.56 5.44l.94 2.06.94-2.06 2.06-.94-2.06-.94-.94-2.06-.94 2.06-2.06.94zm-11 1L8.5 8.5l.94-2.06 2.06-.94-2.06-.94L8.5 2.5l-.94 2.06-2.06.94zm10 10l.94 2.06.94-2.06 2.06-.94-2.06-.94-.94-2.06-.94 2.06-2.06.94z\"/><path d=\"M17.41 7.96l-1.37-1.37c-.4-.4-.92-.59-1.43-.59-.52 0-1.04.2-1.43.59L10.3 9.45l-7.72 7.72c-.78.78-.78 2.05 0 2.83L4 21.41c.39.39.9.59 1.41.59.51 0 1.02-.2 1.41-.59l7.78-7.78 2.81-2.81c.8-.78.8-2.07 0-2.86zM5.41 20L4 18.59l7.72-7.72 1.47 1.35L5.41 20z\"/>\n",
       "  </svg>\n",
       "      </button>\n",
       "      \n",
       "  <style>\n",
       "    .colab-df-container {\n",
       "      display:flex;\n",
       "      flex-wrap:wrap;\n",
       "      gap: 12px;\n",
       "    }\n",
       "\n",
       "    .colab-df-convert {\n",
       "      background-color: #E8F0FE;\n",
       "      border: none;\n",
       "      border-radius: 50%;\n",
       "      cursor: pointer;\n",
       "      display: none;\n",
       "      fill: #1967D2;\n",
       "      height: 32px;\n",
       "      padding: 0 0 0 0;\n",
       "      width: 32px;\n",
       "    }\n",
       "\n",
       "    .colab-df-convert:hover {\n",
       "      background-color: #E2EBFA;\n",
       "      box-shadow: 0px 1px 2px rgba(60, 64, 67, 0.3), 0px 1px 3px 1px rgba(60, 64, 67, 0.15);\n",
       "      fill: #174EA6;\n",
       "    }\n",
       "\n",
       "    [theme=dark] .colab-df-convert {\n",
       "      background-color: #3B4455;\n",
       "      fill: #D2E3FC;\n",
       "    }\n",
       "\n",
       "    [theme=dark] .colab-df-convert:hover {\n",
       "      background-color: #434B5C;\n",
       "      box-shadow: 0px 1px 3px 1px rgba(0, 0, 0, 0.15);\n",
       "      filter: drop-shadow(0px 1px 2px rgba(0, 0, 0, 0.3));\n",
       "      fill: #FFFFFF;\n",
       "    }\n",
       "  </style>\n",
       "\n",
       "      <script>\n",
       "        const buttonEl =\n",
       "          document.querySelector('#df-e883462a-84a6-42a8-b285-66f5c3bc0e79 button.colab-df-convert');\n",
       "        buttonEl.style.display =\n",
       "          google.colab.kernel.accessAllowed ? 'block' : 'none';\n",
       "\n",
       "        async function convertToInteractive(key) {\n",
       "          const element = document.querySelector('#df-e883462a-84a6-42a8-b285-66f5c3bc0e79');\n",
       "          const dataTable =\n",
       "            await google.colab.kernel.invokeFunction('convertToInteractive',\n",
       "                                                     [key], {});\n",
       "          if (!dataTable) return;\n",
       "\n",
       "          const docLinkHtml = 'Like what you see? Visit the ' +\n",
       "            '<a target=\"_blank\" href=https://colab.research.google.com/notebooks/data_table.ipynb>data table notebook</a>'\n",
       "            + ' to learn more about interactive tables.';\n",
       "          element.innerHTML = '';\n",
       "          dataTable['output_type'] = 'display_data';\n",
       "          await google.colab.output.renderOutput(dataTable, element);\n",
       "          const docLink = document.createElement('div');\n",
       "          docLink.innerHTML = docLinkHtml;\n",
       "          element.appendChild(docLink);\n",
       "        }\n",
       "      </script>\n",
       "    </div>\n",
       "  </div>\n",
       "  "
      ],
      "text/plain": [
       "                          Missing Values\n",
       "netTaxableValue                        0\n",
       "EffectiveYear                          0\n",
       "SQFTmain                               0\n",
       "Bedrooms                               0\n",
       "Bathrooms                              0\n",
       "Units                                  0\n",
       "PropertyType Map                       0\n",
       "GeneralUseType Map                     0\n",
       "isTaxableParcel Map                    0\n",
       "AdministrativeRegion Map               0"
      ]
     },
     "execution_count": 289,
     "metadata": {},
     "output_type": "execute_result"
    }
   ],
   "source": [
    "pd.DataFrame({'Missing Values': datanew.isna().sum()})"
   ]
  },
  {
   "cell_type": "markdown",
   "metadata": {
    "id": "SWyDXNUEYHgC"
   },
   "source": [
    "The table above shows that there is no missing values in each column."
   ]
  },
  {
   "cell_type": "markdown",
   "metadata": {
    "id": "LT_oroSPYXDG"
   },
   "source": [
    "# 3. Plot of Variables"
   ]
  },
  {
   "cell_type": "markdown",
   "metadata": {
    "id": "vEYVDQqgas0Z"
   },
   "source": [
    "## 3.1 Correlation"
   ]
  },
  {
   "cell_type": "code",
   "execution_count": null,
   "metadata": {
    "colab": {
     "base_uri": "https://localhost:8080/",
     "height": 625
    },
    "id": "Eebc2S_cYOxZ",
    "outputId": "4d8f5bc1-bb56-47d4-e749-ee493979389f"
   },
   "outputs": [
    {
     "data": {
      "text/plain": [
       "Text(0.5, 1.0, 'Correlation')"
      ]
     },
     "execution_count": 290,
     "metadata": {},
     "output_type": "execute_result"
    },
    {
     "data": {
      "image/png": "[encoded data removed]",
      "text/plain": [
       "<Figure size 1080x720 with 2 Axes>"
      ]
     },
     "metadata": {
      "needs_background": "light"
     },
     "output_type": "display_data"
    }
   ],
   "source": [
    "import matplotlib.pyplot as plt\n",
    "import seaborn as sns\n",
    "\n",
    "corr = datanew.drop(['PropertyType Map','GeneralUseType Map','isTaxableParcel Map','AdministrativeRegion Map'],axis=1).corr()\n",
    "plt.figure(figsize=(15, 10))\n",
    "sns.heatmap(corr, annot=True, cmap=\"Blues\", annot_kws={\"fontsize\":12})\n",
    "plt.title(\"Correlation\")"
   ]
  },
  {
   "cell_type": "markdown",
   "metadata": {
    "id": "71XbVOrFa4Jf"
   },
   "source": [
    "Only Bathroom and Bedroom have relatively high correlation."
   ]
  },
  {
   "cell_type": "markdown",
   "metadata": {
    "id": "MqPRGoRlcRuK"
   },
   "source": [
    "## 3.2 Skewness"
   ]
  },
  {
   "cell_type": "code",
   "execution_count": null,
   "metadata": {
    "colab": {
     "base_uri": "https://localhost:8080/",
     "height": 531
    },
    "id": "2XyijhszcH4e",
    "outputId": "2539b414-0ae5-4783-ea5e-c2d7f316b54f"
   },
   "outputs": [
    {
     "data": {
      "text/plain": [
       "Text(0.5, 0, 'Skewness')"
      ]
     },
     "execution_count": 295,
     "metadata": {},
     "output_type": "execute_result"
    },
    {
     "data": {
      "image/png": "[encoded data removed]",
      "text/plain": [
       "<Figure size 720x576 with 1 Axes>"
      ]
     },
     "metadata": {
      "needs_background": "light"
     },
     "output_type": "display_data"
    }
   ],
   "source": [
    "df = datanew.drop(['PropertyType Map','GeneralUseType Map','isTaxableParcel Map','AdministrativeRegion Map'],axis=1)\n",
    "\n",
    "plt.figure(figsize=(10,8))\n",
    "skewness=df.skew().sort_values()\n",
    "sns.barplot(x=skewness,y=skewness.index).set_title('The Skewness of features')\n",
    "plt.axvline(x=1, color='r', linestyle='--')\n",
    "plt.xlabel('Skewness')"
   ]
  },
  {
   "cell_type": "markdown",
   "metadata": {
    "id": "BYqDqEGUcrlJ"
   },
   "source": [
    "Except for EffectiveYear, all other variables are highly skewed.\n",
    "\n",
    "Therefore, taking Log transformation on SQFTmain and netTaxableValue, while keeping Bedrooms, Bathrooms and Units the same."
   ]
  },
  {
   "cell_type": "code",
   "execution_count": null,
   "metadata": {
    "id": "Mo85gXiScaM8"
   },
   "outputs": [],
   "source": [
    "# log transformation\n",
    "df['SQFTmain']=df['SQFTmain'].apply(np.log)\n",
    "df['netTaxableValue']=df['netTaxableValue'].apply(np.log)"
   ]
  },
  {
   "cell_type": "code",
   "execution_count": null,
   "metadata": {
    "colab": {
     "base_uri": "https://localhost:8080/",
     "height": 423
    },
    "id": "dDwiuyzAd6pT",
    "outputId": "2bb27063-4965-45e0-e4c2-76f17c19bd49"
   },
   "outputs": [
    {
     "data": {
      "text/html": [
       "\n",
       "  <div id=\"df-baba9ad2-9bb0-463b-8c33-58f35ae9fac6\">\n",
       "    <div class=\"colab-df-container\">\n",
       "      <div>\n",
       "<style scoped>\n",
       "    .dataframe tbody tr th:only-of-type {\n",
       "        vertical-align: middle;\n",
       "    }\n",
       "\n",
       "    .dataframe tbody tr th {\n",
       "        vertical-align: top;\n",
       "    }\n",
       "\n",
       "    .dataframe thead th {\n",
       "        text-align: right;\n",
       "    }\n",
       "</style>\n",
       "<table border=\"1\" class=\"dataframe\">\n",
       "  <thead>\n",
       "    <tr style=\"text-align: right;\">\n",
       "      <th></th>\n",
       "      <th>netTaxableValue</th>\n",
       "      <th>EffectiveYear</th>\n",
       "      <th>SQFTmain</th>\n",
       "      <th>Bedrooms</th>\n",
       "      <th>Bathrooms</th>\n",
       "      <th>Units</th>\n",
       "    </tr>\n",
       "  </thead>\n",
       "  <tbody>\n",
       "    <tr>\n",
       "      <th>0</th>\n",
       "      <td>12.197904</td>\n",
       "      <td>81.0</td>\n",
       "      <td>7.395722</td>\n",
       "      <td>2</td>\n",
       "      <td>2</td>\n",
       "      <td>1</td>\n",
       "    </tr>\n",
       "    <tr>\n",
       "      <th>1</th>\n",
       "      <td>11.221101</td>\n",
       "      <td>72.0</td>\n",
       "      <td>6.733402</td>\n",
       "      <td>2</td>\n",
       "      <td>1</td>\n",
       "      <td>1</td>\n",
       "    </tr>\n",
       "    <tr>\n",
       "      <th>2</th>\n",
       "      <td>13.686354</td>\n",
       "      <td>73.0</td>\n",
       "      <td>7.320527</td>\n",
       "      <td>3</td>\n",
       "      <td>2</td>\n",
       "      <td>1</td>\n",
       "    </tr>\n",
       "    <tr>\n",
       "      <th>3</th>\n",
       "      <td>12.955567</td>\n",
       "      <td>46.0</td>\n",
       "      <td>7.777793</td>\n",
       "      <td>5</td>\n",
       "      <td>3</td>\n",
       "      <td>1</td>\n",
       "    </tr>\n",
       "    <tr>\n",
       "      <th>4</th>\n",
       "      <td>13.190310</td>\n",
       "      <td>20.0</td>\n",
       "      <td>8.090096</td>\n",
       "      <td>5</td>\n",
       "      <td>3</td>\n",
       "      <td>1</td>\n",
       "    </tr>\n",
       "    <tr>\n",
       "      <th>...</th>\n",
       "      <td>...</td>\n",
       "      <td>...</td>\n",
       "      <td>...</td>\n",
       "      <td>...</td>\n",
       "      <td>...</td>\n",
       "      <td>...</td>\n",
       "    </tr>\n",
       "    <tr>\n",
       "      <th>2995</th>\n",
       "      <td>13.101620</td>\n",
       "      <td>47.0</td>\n",
       "      <td>7.934513</td>\n",
       "      <td>5</td>\n",
       "      <td>3</td>\n",
       "      <td>1</td>\n",
       "    </tr>\n",
       "    <tr>\n",
       "      <th>2996</th>\n",
       "      <td>12.797976</td>\n",
       "      <td>25.0</td>\n",
       "      <td>7.657283</td>\n",
       "      <td>4</td>\n",
       "      <td>3</td>\n",
       "      <td>1</td>\n",
       "    </tr>\n",
       "    <tr>\n",
       "      <th>2997</th>\n",
       "      <td>12.881565</td>\n",
       "      <td>67.0</td>\n",
       "      <td>7.836765</td>\n",
       "      <td>3</td>\n",
       "      <td>2</td>\n",
       "      <td>1</td>\n",
       "    </tr>\n",
       "    <tr>\n",
       "      <th>2998</th>\n",
       "      <td>12.588293</td>\n",
       "      <td>33.0</td>\n",
       "      <td>7.339538</td>\n",
       "      <td>3</td>\n",
       "      <td>3</td>\n",
       "      <td>1</td>\n",
       "    </tr>\n",
       "    <tr>\n",
       "      <th>2999</th>\n",
       "      <td>12.132232</td>\n",
       "      <td>60.0</td>\n",
       "      <td>7.145196</td>\n",
       "      <td>3</td>\n",
       "      <td>2</td>\n",
       "      <td>1</td>\n",
       "    </tr>\n",
       "  </tbody>\n",
       "</table>\n",
       "<p>3000 rows × 6 columns</p>\n",
       "</div>\n",
       "      <button class=\"colab-df-convert\" onclick=\"convertToInteractive('df-baba9ad2-9bb0-463b-8c33-58f35ae9fac6')\"\n",
       "              title=\"Convert this dataframe to an interactive table.\"\n",
       "              style=\"display:none;\">\n",
       "        \n",
       "  <svg xmlns=\"http://www.w3.org/2000/svg\" height=\"24px\"viewBox=\"0 0 24 24\"\n",
       "       width=\"24px\">\n",
       "    <path d=\"M0 0h24v24H0V0z\" fill=\"none\"/>\n",
       "    <path d=\"M18.56 5.44l.94 2.06.94-2.06 2.06-.94-2.06-.94-.94-2.06-.94 2.06-2.06.94zm-11 1L8.5 8.5l.94-2.06 2.06-.94-2.06-.94L8.5 2.5l-.94 2.06-2.06.94zm10 10l.94 2.06.94-2.06 2.06-.94-2.06-.94-.94-2.06-.94 2.06-2.06.94z\"/><path d=\"M17.41 7.96l-1.37-1.37c-.4-.4-.92-.59-1.43-.59-.52 0-1.04.2-1.43.59L10.3 9.45l-7.72 7.72c-.78.78-.78 2.05 0 2.83L4 21.41c.39.39.9.59 1.41.59.51 0 1.02-.2 1.41-.59l7.78-7.78 2.81-2.81c.8-.78.8-2.07 0-2.86zM5.41 20L4 18.59l7.72-7.72 1.47 1.35L5.41 20z\"/>\n",
       "  </svg>\n",
       "      </button>\n",
       "      \n",
       "  <style>\n",
       "    .colab-df-container {\n",
       "      display:flex;\n",
       "      flex-wrap:wrap;\n",
       "      gap: 12px;\n",
       "    }\n",
       "\n",
       "    .colab-df-convert {\n",
       "      background-color: #E8F0FE;\n",
       "      border: none;\n",
       "      border-radius: 50%;\n",
       "      cursor: pointer;\n",
       "      display: none;\n",
       "      fill: #1967D2;\n",
       "      height: 32px;\n",
       "      padding: 0 0 0 0;\n",
       "      width: 32px;\n",
       "    }\n",
       "\n",
       "    .colab-df-convert:hover {\n",
       "      background-color: #E2EBFA;\n",
       "      box-shadow: 0px 1px 2px rgba(60, 64, 67, 0.3), 0px 1px 3px 1px rgba(60, 64, 67, 0.15);\n",
       "      fill: #174EA6;\n",
       "    }\n",
       "\n",
       "    [theme=dark] .colab-df-convert {\n",
       "      background-color: #3B4455;\n",
       "      fill: #D2E3FC;\n",
       "    }\n",
       "\n",
       "    [theme=dark] .colab-df-convert:hover {\n",
       "      background-color: #434B5C;\n",
       "      box-shadow: 0px 1px 3px 1px rgba(0, 0, 0, 0.15);\n",
       "      filter: drop-shadow(0px 1px 2px rgba(0, 0, 0, 0.3));\n",
       "      fill: #FFFFFF;\n",
       "    }\n",
       "  </style>\n",
       "\n",
       "      <script>\n",
       "        const buttonEl =\n",
       "          document.querySelector('#df-baba9ad2-9bb0-463b-8c33-58f35ae9fac6 button.colab-df-convert');\n",
       "        buttonEl.style.display =\n",
       "          google.colab.kernel.accessAllowed ? 'block' : 'none';\n",
       "\n",
       "        async function convertToInteractive(key) {\n",
       "          const element = document.querySelector('#df-baba9ad2-9bb0-463b-8c33-58f35ae9fac6');\n",
       "          const dataTable =\n",
       "            await google.colab.kernel.invokeFunction('convertToInteractive',\n",
       "                                                     [key], {});\n",
       "          if (!dataTable) return;\n",
       "\n",
       "          const docLinkHtml = 'Like what you see? Visit the ' +\n",
       "            '<a target=\"_blank\" href=https://colab.research.google.com/notebooks/data_table.ipynb>data table notebook</a>'\n",
       "            + ' to learn more about interactive tables.';\n",
       "          element.innerHTML = '';\n",
       "          dataTable['output_type'] = 'display_data';\n",
       "          await google.colab.output.renderOutput(dataTable, element);\n",
       "          const docLink = document.createElement('div');\n",
       "          docLink.innerHTML = docLinkHtml;\n",
       "          element.appendChild(docLink);\n",
       "        }\n",
       "      </script>\n",
       "    </div>\n",
       "  </div>\n",
       "  "
      ],
      "text/plain": [
       "      netTaxableValue  EffectiveYear  SQFTmain  Bedrooms  Bathrooms  Units\n",
       "0           12.197904           81.0  7.395722         2          2      1\n",
       "1           11.221101           72.0  6.733402         2          1      1\n",
       "2           13.686354           73.0  7.320527         3          2      1\n",
       "3           12.955567           46.0  7.777793         5          3      1\n",
       "4           13.190310           20.0  8.090096         5          3      1\n",
       "...               ...            ...       ...       ...        ...    ...\n",
       "2995        13.101620           47.0  7.934513         5          3      1\n",
       "2996        12.797976           25.0  7.657283         4          3      1\n",
       "2997        12.881565           67.0  7.836765         3          2      1\n",
       "2998        12.588293           33.0  7.339538         3          3      1\n",
       "2999        12.132232           60.0  7.145196         3          2      1\n",
       "\n",
       "[3000 rows x 6 columns]"
      ]
     },
     "execution_count": 297,
     "metadata": {},
     "output_type": "execute_result"
    }
   ],
   "source": [
    "df"
   ]
  },
  {
   "cell_type": "markdown",
   "metadata": {
    "id": "7CC_kxQ8ndSJ"
   },
   "source": [
    "## 3.3 Distribution"
   ]
  },
  {
   "cell_type": "code",
   "execution_count": null,
   "metadata": {
    "colab": {
     "base_uri": "https://localhost:8080/",
     "height": 879
    },
    "id": "myGPWNNUbATl",
    "outputId": "7f263c9e-3f7f-4ecb-acd5-c29d58fb6935"
   },
   "outputs": [
    {
     "data": {
      "image/png": "[encoded data removed]",
      "text/plain": [
       "<Figure size 1440x1080 with 6 Axes>"
      ]
     },
     "metadata": {
      "needs_background": "light"
     },
     "output_type": "display_data"
    }
   ],
   "source": [
    "df.hist(figsize=(20,15),bins='auto', color='#52527a')\n",
    "plt.show()"
   ]
  },
  {
   "cell_type": "markdown",
   "metadata": {
    "id": "NvpxOWE7j7MB"
   },
   "source": [
    "# 4. Modeling"
   ]
  },
  {
   "cell_type": "markdown",
   "metadata": {
    "id": "6RwU9ZthC9Sm"
   },
   "source": []
  },
  {
   "cell_type": "markdown",
   "metadata": {
    "id": "fZ7nkAWVj-Nz"
   },
   "source": [
    "## 4.1 Splitting the data"
   ]
  },
  {
   "cell_type": "code",
   "execution_count": null,
   "metadata": {
    "colab": {
     "base_uri": "https://localhost:8080/"
    },
    "collapsed": true,
    "id": "Ud8tTEfEj878",
    "outputId": "b1b4a7b3-e5b7-4acf-930f-e5e633fe930a"
   },
   "outputs": [
    {
     "name": "stderr",
     "output_type": "stream",
     "text": [
      "/usr/local/lib/python3.7/dist-packages/ipykernel_launcher.py:1: SettingWithCopyWarning: \n",
      "A value is trying to be set on a copy of a slice from a DataFrame.\n",
      "Try using .loc[row_indexer,col_indexer] = value instead\n",
      "\n",
      "See the caveats in the documentation: https://pandas.pydata.org/pandas-docs/stable/user_guide/indexing.html#returning-a-view-versus-a-copy\n",
      "  \"\"\"Entry point for launching an IPython kernel.\n",
      "/usr/local/lib/python3.7/dist-packages/ipykernel_launcher.py:2: SettingWithCopyWarning: \n",
      "A value is trying to be set on a copy of a slice from a DataFrame.\n",
      "Try using .loc[row_indexer,col_indexer] = value instead\n",
      "\n",
      "See the caveats in the documentation: https://pandas.pydata.org/pandas-docs/stable/user_guide/indexing.html#returning-a-view-versus-a-copy\n",
      "  \n"
     ]
    }
   ],
   "source": [
    "datanew['SQFTmain']=df['SQFTmain']\n",
    "datanew['netTaxableValue']=df['netTaxableValue']\n",
    "\n",
    "X = datanew.iloc[:, 1:10]\n",
    "y = datanew.iloc[:, 0]\n",
    "\n",
    "# Splitting the dataset into the Training set and Test set\n",
    "from sklearn.model_selection import train_test_split\n",
    "X_train, X_test, y_train, y_test = train_test_split(X, y, test_size = 0.2, random_state = 0)"
   ]
  },
  {
   "cell_type": "markdown",
   "metadata": {
    "id": "3jQS7X773Zcd"
   },
   "source": [
    "## 4.2 Performing the training and testing session"
   ]
  },
  {
   "cell_type": "code",
   "execution_count": null,
   "metadata": {
    "id": "-i5n06FLELdL"
   },
   "outputs": [],
   "source": [
    "from sklearn.model_selection import ShuffleSplit\n",
    "from sklearn.model_selection import cross_val_score"
   ]
  },
  {
   "cell_type": "code",
   "execution_count": null,
   "metadata": {
    "id": "YhiP5yz_D5Bw"
   },
   "outputs": [],
   "source": [
    "def evaluation(y_test, predictions):\n",
    "    from sklearn.metrics  import mean_absolute_error\n",
    "    from sklearn.metrics  import mean_squared_error\n",
    "    from sklearn.metrics  import r2_score\n",
    "    mae = mean_absolute_error(y_test, predictions)\n",
    "    mse = mean_squared_error(y_test, predictions)\n",
    "    r_squared = r2_score(y_test, predictions)\n",
    "    return mae, mse, r_squared\n",
    "\n",
    "models = pd.DataFrame(columns=[\"Model\",\"MAE\",\"MSE\",\"R2 Score\"])"
   ]
  },
  {
   "cell_type": "markdown",
   "metadata": {
    "id": "M0LJ_L0m3cI6"
   },
   "source": [
    "### 4.2.1 Multiple Linear Regression model"
   ]
  },
  {
   "cell_type": "code",
   "execution_count": null,
   "metadata": {
    "colab": {
     "base_uri": "https://localhost:8080/"
    },
    "id": "g5u_06tVEl5g",
    "outputId": "0d8be8e5-aff3-473d-f830-40ea8175a9ff"
   },
   "outputs": [
    {
     "name": "stdout",
     "output_type": "stream",
     "text": [
      "average cross validation score is 0.3892385274823028\n"
     ]
    }
   ],
   "source": [
    "lin_reg = LinearRegression()\n",
    "lin_reg.fit(X_train,y_train)\n",
    "predictions_lr = lin_reg.predict(X_test)\n",
    "\n",
    "cv = ShuffleSplit(n_splits=5,test_size=0.2,random_state= 4085)\n",
    "cross_val_score(lin_reg,X_train,y_train,cv=cv)\n",
    "\n",
    "lr_score = np.mean(cross_val_score(lin_reg,X_train,y_train,cv=cv))\n",
    "print(f'average cross validation score is {lr_score}')\n",
    "\n",
    "mae, mse, r_squared = evaluation(y_test, predictions_lr)\n",
    "\n",
    "new_row = {\"Model\": \"LinearRegression\",\"MAE\": mae, \"MSE\": mse,\"R2 Score\": r_squared}\n",
    "models = models.append(new_row, ignore_index=True)\n"
   ]
  },
  {
   "cell_type": "markdown",
   "metadata": {
    "id": "iY6kCha16FMf"
   },
   "source": [
    "### 4.2.2 Ridge Regression"
   ]
  },
  {
   "cell_type": "code",
   "execution_count": null,
   "metadata": {
    "colab": {
     "base_uri": "https://localhost:8080/"
    },
    "id": "i2G-sPaK5w7f",
    "outputId": "aec7d994-74b7-4fdc-8a64-d1d5aed6a45e"
   },
   "outputs": [
    {
     "name": "stdout",
     "output_type": "stream",
     "text": [
      "Training set score: 0.40\n",
      "Test set score: 0.31\n"
     ]
    }
   ],
   "source": [
    "# ridge regression AKA linear regression with l2 regularization\n",
    "from sklearn.linear_model import Ridge\n",
    "\n",
    "ridge = Ridge().fit(X_train, y_train)\n",
    "print(\"Training set score: {:.2f}\".format(ridge.score(X_train, y_train)))\n",
    "print(\"Test set score: {:.2f}\".format(ridge.score(X_test, y_test)))"
   ]
  },
  {
   "cell_type": "code",
   "execution_count": null,
   "metadata": {
    "colab": {
     "base_uri": "https://localhost:8080/"
    },
    "id": "JHjhiyme6BmG",
    "outputId": "c106c77a-255a-4dbc-d028-380f78526c03"
   },
   "outputs": [
    {
     "name": "stdout",
     "output_type": "stream",
     "text": [
      "Training set score: 0.40\n",
      "Test set score: 0.31\n"
     ]
    }
   ],
   "source": [
    "# ridge regression with alpha =10\n",
    "ridge10 = Ridge(alpha=10).fit(X_train, y_train)\n",
    "print(\"Training set score: {:.2f}\".format(ridge10.score(X_train, y_train)))\n",
    "print(\"Test set score: {:.2f}\".format(ridge10.score(X_test, y_test)))"
   ]
  },
  {
   "cell_type": "code",
   "execution_count": null,
   "metadata": {
    "colab": {
     "base_uri": "https://localhost:8080/"
    },
    "id": "cKI5mhIU6Y0Y",
    "outputId": "2ddc4cc3-c809-4692-8793-16c7c2b2331b"
   },
   "outputs": [
    {
     "name": "stdout",
     "output_type": "stream",
     "text": [
      "Training set score: 0.40\n",
      "Test set score: 0.31\n"
     ]
    }
   ],
   "source": [
    "# ridge regression with alphaa=0.1\n",
    "ridge01 = Ridge(alpha=0.1).fit(X_train, y_train)\n",
    "print(\"Training set score: {:.2f}\".format(ridge01.score(X_train, y_train)))\n",
    "print(\"Test set score: {:.2f}\".format(ridge01.score(X_test, y_test)))"
   ]
  },
  {
   "cell_type": "code",
   "execution_count": null,
   "metadata": {
    "colab": {
     "base_uri": "https://localhost:8080/",
     "height": 297
    },
    "id": "ojkNawaa6b3k",
    "outputId": "a1dd4283-9565-486a-fe26-e0635f453fdc"
   },
   "outputs": [
    {
     "data": {
      "text/plain": [
       "<matplotlib.legend.Legend at 0x7f49f1bd7e10>"
      ]
     },
     "execution_count": 492,
     "metadata": {},
     "output_type": "execute_result"
    },
    {
     "data": {
      "image/png": "[encoded data removed]",
      "text/plain": [
       "<Figure size 432x288 with 1 Axes>"
      ]
     },
     "metadata": {
      "needs_background": "light"
     },
     "output_type": "display_data"
    }
   ],
   "source": [
    "# visualizaiton of ridge regression\n",
    "plt.plot(ridge.coef_, 's', label=\"Ridge alpha=1\")\n",
    "plt.plot(ridge10.coef_, '^', label=\"Ridge alpha=10\")\n",
    "plt.plot(ridge01.coef_, 'v', label=\"Ridge alpha=0.1\")\n",
    "\n",
    "plt.plot(lr.coef_, 'o', label=\"LinearRegression\")\n",
    "plt.xlabel(\"Coefficient index\")\n",
    "plt.ylabel(\"Coefficient magnitude\")\n",
    "xlims = plt.xlim()\n",
    "plt.hlines(0, xlims[0], xlims[1])\n",
    "plt.xlim(xlims)\n",
    "plt.ylim(-7.5, 7.5)\n",
    "plt.legend()"
   ]
  },
  {
   "cell_type": "code",
   "execution_count": null,
   "metadata": {
    "colab": {
     "base_uri": "https://localhost:8080/"
    },
    "id": "qLZ9FnKtFQDE",
    "outputId": "f976e72b-39e1-4f45-b4a2-ff5b01f85939"
   },
   "outputs": [
    {
     "name": "stdout",
     "output_type": "stream",
     "text": [
      "average cross validation score is 0.3892559945391084\n"
     ]
    }
   ],
   "source": [
    "# choose alpha=0.1\n",
    "predictions = ridge01.predict(X_test)\n",
    "\n",
    "cv = ShuffleSplit(n_splits=5,test_size=0.2,random_state= 4085)\n",
    "cross_val_score(ridge01,X_train,y_train,cv=cv)\n",
    "\n",
    "rr_score = np.mean(cross_val_score(ridge01,X_train,y_train,cv=cv))\n",
    "print(f'average cross validation score is {rr_score}')\n",
    "\n",
    "mae, mse, r_squared = evaluation(y_test, predictions)\n",
    "\n",
    "new_row = {\"Model\": \"RidgeRegression\",\"MAE\": mae, \"MSE\": mse,\"R2 Score\": r_squared}\n",
    "models = models.append(new_row, ignore_index=True)"
   ]
  },
  {
   "cell_type": "markdown",
   "metadata": {
    "id": "eEL9PV697EZI"
   },
   "source": [
    "### 4.2.3 LASSO Regression"
   ]
  },
  {
   "cell_type": "code",
   "execution_count": null,
   "metadata": {
    "colab": {
     "base_uri": "https://localhost:8080/"
    },
    "id": "gyc9l4RgAgRA",
    "outputId": "b878ff04-a1a2-4c66-9692-32a2805a1cc5"
   },
   "outputs": [
    {
     "name": "stdout",
     "output_type": "stream",
     "text": [
      "Training set score: 0.12\n",
      "Test set score: 0.10\n",
      "Number of features used: 3\n"
     ]
    }
   ],
   "source": [
    "##### Laso Method AKA linear regression with L1 regularization\n",
    "\n",
    "from sklearn.linear_model import Lasso\n",
    "\n",
    "lasso = Lasso().fit(X_train, y_train)\n",
    "print(\"Training set score: {:.2f}\".format(lasso.score(X_train, y_train)))\n",
    "print(\"Test set score: {:.2f}\".format(lasso.score(X_test, y_test)))\n",
    "print(\"Number of features used:\", np.sum(lasso.coef_ != 0))\n"
   ]
  },
  {
   "cell_type": "code",
   "execution_count": null,
   "metadata": {
    "colab": {
     "base_uri": "https://localhost:8080/"
    },
    "id": "rmrsOjBR-gA9",
    "outputId": "7eafb67d-4325-4768-e50e-e61175acecb4"
   },
   "outputs": [
    {
     "name": "stdout",
     "output_type": "stream",
     "text": [
      "Training set score: 0.40\n",
      "Test set score: 0.31\n",
      "Number of features used: 5\n"
     ]
    }
   ],
   "source": [
    "# we increase the default setting of \"max_iter\",\n",
    "# otherwise the model would warn us that we should increase max_iter.\n",
    "lasso001 = Lasso(alpha=0.01, max_iter=100000).fit(X_train, y_train)\n",
    "print(\"Training set score: {:.2f}\".format(lasso001.score(X_train, y_train)))\n",
    "print(\"Test set score: {:.2f}\".format(lasso001.score(X_test, y_test)))\n",
    "print(\"Number of features used:\", np.sum(lasso001.coef_ != 0))"
   ]
  },
  {
   "cell_type": "code",
   "execution_count": null,
   "metadata": {
    "colab": {
     "base_uri": "https://localhost:8080/"
    },
    "id": "JDuG45BN_EQb",
    "outputId": "4f500c62-1fe1-457b-82ff-6c486820d871"
   },
   "outputs": [
    {
     "name": "stdout",
     "output_type": "stream",
     "text": [
      "Training set score: 0.40\n",
      "Test set score: 0.31\n",
      "Number of features used: 8\n"
     ]
    }
   ],
   "source": [
    "lasso00001 = Lasso(alpha=0.0001, max_iter=100000).fit(X_train, y_train)\n",
    "print(\"Training set score: {:.2f}\".format(lasso00001.score(X_train, y_train)))\n",
    "print(\"Test set score: {:.2f}\".format(lasso00001.score(X_test, y_test)))\n",
    "print(\"Number of features used:\", np.sum(lasso00001.coef_ != 0))"
   ]
  },
  {
   "cell_type": "code",
   "execution_count": null,
   "metadata": {
    "colab": {
     "base_uri": "https://localhost:8080/",
     "height": 341
    },
    "id": "k0REr4aY_Pd6",
    "outputId": "af76138f-1f06-45c6-e5f8-519204503efe"
   },
   "outputs": [
    {
     "data": {
      "text/plain": [
       "Text(0, 0.5, 'Coefficient magnitude')"
      ]
     },
     "execution_count": 519,
     "metadata": {},
     "output_type": "execute_result"
    },
    {
     "data": {
      "image/png": "[encoded data removed]",
      "text/plain": [
       "<Figure size 432x288 with 1 Axes>"
      ]
     },
     "metadata": {
      "needs_background": "light"
     },
     "output_type": "display_data"
    }
   ],
   "source": [
    "# visualizaiton of LASSO regression\n",
    "plt.plot(lasso.coef_, 's', label=\"Lasso alpha=1\")\n",
    "plt.plot(lasso001.coef_, '^', label=\"Lasso alpha=0.01\")\n",
    "plt.plot(lasso00001.coef_, 'v', label=\"Lasso alpha=0.0001\")\n",
    "\n",
    "plt.plot(ridge01.coef_, 'o', label=\"Ridge alpha=0.1\")\n",
    "plt.legend(ncol=2, loc=(0, 1.05))\n",
    "plt.ylim(-0.1, 0.9)\n",
    "plt.xlabel(\"Coefficient index\")\n",
    "plt.ylabel(\"Coefficient magnitude\")"
   ]
  },
  {
   "cell_type": "code",
   "execution_count": null,
   "metadata": {
    "colab": {
     "base_uri": "https://localhost:8080/"
    },
    "id": "FyjIjc5sF2Im",
    "outputId": "225d52b7-9393-4f82-f780-ede3928c7881"
   },
   "outputs": [
    {
     "name": "stdout",
     "output_type": "stream",
     "text": [
      "average cross validation score is 0.38947009360689727\n"
     ]
    }
   ],
   "source": [
    "# Choose alpha=0.0001, max_iter=100000\n",
    "predictions_la = lasso00001.predict(X_test)\n",
    "\n",
    "cv = ShuffleSplit(n_splits=5,test_size=0.2,random_state= 4085)\n",
    "cross_val_score(lasso00001,X_train,y_train,cv=cv)\n",
    "\n",
    "la_score = np.mean(cross_val_score(lasso00001,X_train,y_train,cv=cv))\n",
    "print(f'average cross validation score is {la_score}')\n",
    "\n",
    "mae, mse, r_squared = evaluation(y_test, predictions_la)\n",
    "\n",
    "new_row = {\"Model\": \"LassoRegression\",\"MAE\": mae, \"MSE\": mse,\"R2 Score\": r_squared}\n",
    "models = models.append(new_row, ignore_index=True)"
   ]
  },
  {
   "cell_type": "markdown",
   "metadata": {
    "id": "87cXqGbRBThG"
   },
   "source": [
    "### 4.2.4 ElasticNetCV"
   ]
  },
  {
   "cell_type": "code",
   "execution_count": null,
   "metadata": {
    "colab": {
     "base_uri": "https://localhost:8080/"
    },
    "id": "TvBB7JwSBY70",
    "outputId": "31cfaeee-6406-4c2c-eac4-44a7de390797"
   },
   "outputs": [
    {
     "name": "stdout",
     "output_type": "stream",
     "text": [
      "Training set score: 0.40\n",
      "Test set score: 0.31\n",
      "Number of features used: 5\n"
     ]
    }
   ],
   "source": [
    "from sklearn.linear_model import ElasticNetCV\n",
    "ENet = ElasticNetCV(cv=5, random_state=0)\n",
    "ENet.fit(X, y)\n",
    "print(\"Training set score: {:.2f}\".format(ENet.score(X_train, y_train)))\n",
    "print(\"Test set score: {:.2f}\".format(ENet.score(X_test, y_test)))\n",
    "print(\"Number of features used:\", np.sum(ENet.coef_ != 0))"
   ]
  },
  {
   "cell_type": "code",
   "execution_count": null,
   "metadata": {
    "colab": {
     "base_uri": "https://localhost:8080/"
    },
    "id": "GoBNmsh_GY2y",
    "outputId": "d1e75a9d-2c43-46ac-a095-ddaae50fedbc"
   },
   "outputs": [
    {
     "name": "stdout",
     "output_type": "stream",
     "text": [
      "average cross validation score is 0.38947009360689727\n"
     ]
    }
   ],
   "source": [
    "predictions = ENet.predict(X_test)\n",
    "\n",
    "cv = ShuffleSplit(n_splits=5,test_size=0.2,random_state= 4085)\n",
    "cross_val_score(ENet,X_train,y_train,cv=cv)\n",
    "\n",
    "ela_score = np.mean(cross_val_score(ENet,X_train,y_train,cv=cv))\n",
    "print(f'average cross validation score is {la_score}')\n",
    "\n",
    "mae, mse, r_squared = evaluation(y_test, predictions)\n",
    "\n",
    "new_row = {\"Model\": \"ElasticNetCV\",\"MAE\": mae, \"MSE\": mse,\"R2 Score\": r_squared}\n",
    "models = models.append(new_row, ignore_index=True)"
   ]
  },
  {
   "cell_type": "markdown",
   "metadata": {
    "id": "KalWpxQHBnDe"
   },
   "source": [
    "### 4.2.5 SVM"
   ]
  },
  {
   "cell_type": "code",
   "execution_count": null,
   "metadata": {
    "colab": {
     "base_uri": "https://localhost:8080/"
    },
    "id": "F_6PHz_XGwF9",
    "outputId": "a297eb88-9026-45e1-a57e-65f1d5dfd965"
   },
   "outputs": [
    {
     "name": "stdout",
     "output_type": "stream",
     "text": [
      "average cross validation score is 0.3480949227910039\n"
     ]
    }
   ],
   "source": [
    "from sklearn.svm import SVR\n",
    "svr = SVR(C=1000)\n",
    "svr.fit(X_train, y_train)\n",
    "\n",
    "cv = ShuffleSplit(n_splits=5,test_size=0.2,random_state= 4085)\n",
    "cross_val_score(svr,X_train,y_train,cv=cv)\n",
    "\n",
    "svm_score = np.mean(cross_val_score(svr,X_train,y_train,cv=cv))\n",
    "print(f'average cross validation score is {svm_score}')\n",
    "\n",
    "predictions = svr.predict(X_test)\n",
    "mae, mse, r_squared = evaluation(y_test, predictions)\n",
    "\n",
    "new_row = {\"Model\": \"SVM\",\"MAE\": mae, \"MSE\": mse,\"R2 Score\": r_squared}\n",
    "models = models.append(new_row, ignore_index=True)"
   ]
  },
  {
   "cell_type": "markdown",
   "metadata": {
    "id": "gUpUVlziBeUg"
   },
   "source": [
    "## 4.3 Models Summary"
   ]
  },
  {
   "cell_type": "markdown",
   "metadata": {
    "id": "hHGpWjbDI-4o"
   },
   "source": [
    "### 4.3.1 Model fitting"
   ]
  },
  {
   "cell_type": "code",
   "execution_count": null,
   "metadata": {
    "colab": {
     "base_uri": "https://localhost:8080/",
     "height": 206
    },
    "id": "QkaYwaPZBZYA",
    "outputId": "337c51b4-fcb1-4dbc-bf57-6142c9b0d4ad"
   },
   "outputs": [
    {
     "data": {
      "text/html": [
       "\n",
       "  <div id=\"df-82914ac6-d762-4447-98bc-b25d68af3e98\">\n",
       "    <div class=\"colab-df-container\">\n",
       "      <div>\n",
       "<style scoped>\n",
       "    .dataframe tbody tr th:only-of-type {\n",
       "        vertical-align: middle;\n",
       "    }\n",
       "\n",
       "    .dataframe tbody tr th {\n",
       "        vertical-align: top;\n",
       "    }\n",
       "\n",
       "    .dataframe thead th {\n",
       "        text-align: right;\n",
       "    }\n",
       "</style>\n",
       "<table border=\"1\" class=\"dataframe\">\n",
       "  <thead>\n",
       "    <tr style=\"text-align: right;\">\n",
       "      <th></th>\n",
       "      <th>Model</th>\n",
       "      <th>MAE</th>\n",
       "      <th>MSE</th>\n",
       "      <th>R2 Score</th>\n",
       "    </tr>\n",
       "  </thead>\n",
       "  <tbody>\n",
       "    <tr>\n",
       "      <th>0</th>\n",
       "      <td>LinearRegression</td>\n",
       "      <td>0.624411</td>\n",
       "      <td>0.645175</td>\n",
       "      <td>0.307683</td>\n",
       "    </tr>\n",
       "    <tr>\n",
       "      <th>1</th>\n",
       "      <td>RidgeRegression</td>\n",
       "      <td>0.624410</td>\n",
       "      <td>0.645178</td>\n",
       "      <td>0.307680</td>\n",
       "    </tr>\n",
       "    <tr>\n",
       "      <th>2</th>\n",
       "      <td>LassoRegression</td>\n",
       "      <td>0.624327</td>\n",
       "      <td>0.644935</td>\n",
       "      <td>0.307941</td>\n",
       "    </tr>\n",
       "    <tr>\n",
       "      <th>3</th>\n",
       "      <td>ElasticNetCV</td>\n",
       "      <td>0.622171</td>\n",
       "      <td>0.639239</td>\n",
       "      <td>0.314053</td>\n",
       "    </tr>\n",
       "    <tr>\n",
       "      <th>4</th>\n",
       "      <td>SVM</td>\n",
       "      <td>0.606329</td>\n",
       "      <td>0.644385</td>\n",
       "      <td>0.308532</td>\n",
       "    </tr>\n",
       "  </tbody>\n",
       "</table>\n",
       "</div>\n",
       "      <button class=\"colab-df-convert\" onclick=\"convertToInteractive('df-82914ac6-d762-4447-98bc-b25d68af3e98')\"\n",
       "              title=\"Convert this dataframe to an interactive table.\"\n",
       "              style=\"display:none;\">\n",
       "        \n",
       "  <svg xmlns=\"http://www.w3.org/2000/svg\" height=\"24px\"viewBox=\"0 0 24 24\"\n",
       "       width=\"24px\">\n",
       "    <path d=\"M0 0h24v24H0V0z\" fill=\"none\"/>\n",
       "    <path d=\"M18.56 5.44l.94 2.06.94-2.06 2.06-.94-2.06-.94-.94-2.06-.94 2.06-2.06.94zm-11 1L8.5 8.5l.94-2.06 2.06-.94-2.06-.94L8.5 2.5l-.94 2.06-2.06.94zm10 10l.94 2.06.94-2.06 2.06-.94-2.06-.94-.94-2.06-.94 2.06-2.06.94z\"/><path d=\"M17.41 7.96l-1.37-1.37c-.4-.4-.92-.59-1.43-.59-.52 0-1.04.2-1.43.59L10.3 9.45l-7.72 7.72c-.78.78-.78 2.05 0 2.83L4 21.41c.39.39.9.59 1.41.59.51 0 1.02-.2 1.41-.59l7.78-7.78 2.81-2.81c.8-.78.8-2.07 0-2.86zM5.41 20L4 18.59l7.72-7.72 1.47 1.35L5.41 20z\"/>\n",
       "  </svg>\n",
       "      </button>\n",
       "      \n",
       "  <style>\n",
       "    .colab-df-container {\n",
       "      display:flex;\n",
       "      flex-wrap:wrap;\n",
       "      gap: 12px;\n",
       "    }\n",
       "\n",
       "    .colab-df-convert {\n",
       "      background-color: #E8F0FE;\n",
       "      border: none;\n",
       "      border-radius: 50%;\n",
       "      cursor: pointer;\n",
       "      display: none;\n",
       "      fill: #1967D2;\n",
       "      height: 32px;\n",
       "      padding: 0 0 0 0;\n",
       "      width: 32px;\n",
       "    }\n",
       "\n",
       "    .colab-df-convert:hover {\n",
       "      background-color: #E2EBFA;\n",
       "      box-shadow: 0px 1px 2px rgba(60, 64, 67, 0.3), 0px 1px 3px 1px rgba(60, 64, 67, 0.15);\n",
       "      fill: #174EA6;\n",
       "    }\n",
       "\n",
       "    [theme=dark] .colab-df-convert {\n",
       "      background-color: #3B4455;\n",
       "      fill: #D2E3FC;\n",
       "    }\n",
       "\n",
       "    [theme=dark] .colab-df-convert:hover {\n",
       "      background-color: #434B5C;\n",
       "      box-shadow: 0px 1px 3px 1px rgba(0, 0, 0, 0.15);\n",
       "      filter: drop-shadow(0px 1px 2px rgba(0, 0, 0, 0.3));\n",
       "      fill: #FFFFFF;\n",
       "    }\n",
       "  </style>\n",
       "\n",
       "      <script>\n",
       "        const buttonEl =\n",
       "          document.querySelector('#df-82914ac6-d762-4447-98bc-b25d68af3e98 button.colab-df-convert');\n",
       "        buttonEl.style.display =\n",
       "          google.colab.kernel.accessAllowed ? 'block' : 'none';\n",
       "\n",
       "        async function convertToInteractive(key) {\n",
       "          const element = document.querySelector('#df-82914ac6-d762-4447-98bc-b25d68af3e98');\n",
       "          const dataTable =\n",
       "            await google.colab.kernel.invokeFunction('convertToInteractive',\n",
       "                                                     [key], {});\n",
       "          if (!dataTable) return;\n",
       "\n",
       "          const docLinkHtml = 'Like what you see? Visit the ' +\n",
       "            '<a target=\"_blank\" href=https://colab.research.google.com/notebooks/data_table.ipynb>data table notebook</a>'\n",
       "            + ' to learn more about interactive tables.';\n",
       "          element.innerHTML = '';\n",
       "          dataTable['output_type'] = 'display_data';\n",
       "          await google.colab.output.renderOutput(dataTable, element);\n",
       "          const docLink = document.createElement('div');\n",
       "          docLink.innerHTML = docLinkHtml;\n",
       "          element.appendChild(docLink);\n",
       "        }\n",
       "      </script>\n",
       "    </div>\n",
       "  </div>\n",
       "  "
      ],
      "text/plain": [
       "              Model       MAE       MSE  R2 Score\n",
       "0  LinearRegression  0.624411  0.645175  0.307683\n",
       "1   RidgeRegression  0.624410  0.645178  0.307680\n",
       "2   LassoRegression  0.624327  0.644935  0.307941\n",
       "3      ElasticNetCV  0.622171  0.639239  0.314053\n",
       "4               SVM  0.606329  0.644385  0.308532"
      ]
     },
     "execution_count": 502,
     "metadata": {},
     "output_type": "execute_result"
    }
   ],
   "source": [
    "models"
   ]
  },
  {
   "cell_type": "markdown",
   "metadata": {
    "id": "Sgzux1TVJE8B"
   },
   "source": [
    "### 4.3.2 Model Performance"
   ]
  },
  {
   "cell_type": "code",
   "execution_count": null,
   "metadata": {
    "colab": {
     "base_uri": "https://localhost:8080/",
     "height": 206
    },
    "id": "0gTKgGXxIepu",
    "outputId": "45d0e72b-5ec7-490a-97af-5cd71e214f87"
   },
   "outputs": [
    {
     "data": {
      "text/html": [
       "\n",
       "  <div id=\"df-3ea832a0-02c3-44aa-a57d-0e95932e5cea\">\n",
       "    <div class=\"colab-df-container\">\n",
       "      <div>\n",
       "<style scoped>\n",
       "    .dataframe tbody tr th:only-of-type {\n",
       "        vertical-align: middle;\n",
       "    }\n",
       "\n",
       "    .dataframe tbody tr th {\n",
       "        vertical-align: top;\n",
       "    }\n",
       "\n",
       "    .dataframe thead th {\n",
       "        text-align: right;\n",
       "    }\n",
       "</style>\n",
       "<table border=\"1\" class=\"dataframe\">\n",
       "  <thead>\n",
       "    <tr style=\"text-align: right;\">\n",
       "      <th></th>\n",
       "      <th>Scores</th>\n",
       "      <th>Name</th>\n",
       "    </tr>\n",
       "  </thead>\n",
       "  <tbody>\n",
       "    <tr>\n",
       "      <th>1</th>\n",
       "      <td>0.389239</td>\n",
       "      <td>LinearRegression</td>\n",
       "    </tr>\n",
       "    <tr>\n",
       "      <th>2</th>\n",
       "      <td>0.389256</td>\n",
       "      <td>RidgeRegression</td>\n",
       "    </tr>\n",
       "    <tr>\n",
       "      <th>3</th>\n",
       "      <td>0.389470</td>\n",
       "      <td>LassoRegression</td>\n",
       "    </tr>\n",
       "    <tr>\n",
       "      <th>4</th>\n",
       "      <td>0.380495</td>\n",
       "      <td>ElasticNetCV</td>\n",
       "    </tr>\n",
       "    <tr>\n",
       "      <th>5</th>\n",
       "      <td>0.348095</td>\n",
       "      <td>SVM</td>\n",
       "    </tr>\n",
       "  </tbody>\n",
       "</table>\n",
       "</div>\n",
       "      <button class=\"colab-df-convert\" onclick=\"convertToInteractive('df-3ea832a0-02c3-44aa-a57d-0e95932e5cea')\"\n",
       "              title=\"Convert this dataframe to an interactive table.\"\n",
       "              style=\"display:none;\">\n",
       "        \n",
       "  <svg xmlns=\"http://www.w3.org/2000/svg\" height=\"24px\"viewBox=\"0 0 24 24\"\n",
       "       width=\"24px\">\n",
       "    <path d=\"M0 0h24v24H0V0z\" fill=\"none\"/>\n",
       "    <path d=\"M18.56 5.44l.94 2.06.94-2.06 2.06-.94-2.06-.94-.94-2.06-.94 2.06-2.06.94zm-11 1L8.5 8.5l.94-2.06 2.06-.94-2.06-.94L8.5 2.5l-.94 2.06-2.06.94zm10 10l.94 2.06.94-2.06 2.06-.94-2.06-.94-.94-2.06-.94 2.06-2.06.94z\"/><path d=\"M17.41 7.96l-1.37-1.37c-.4-.4-.92-.59-1.43-.59-.52 0-1.04.2-1.43.59L10.3 9.45l-7.72 7.72c-.78.78-.78 2.05 0 2.83L4 21.41c.39.39.9.59 1.41.59.51 0 1.02-.2 1.41-.59l7.78-7.78 2.81-2.81c.8-.78.8-2.07 0-2.86zM5.41 20L4 18.59l7.72-7.72 1.47 1.35L5.41 20z\"/>\n",
       "  </svg>\n",
       "      </button>\n",
       "      \n",
       "  <style>\n",
       "    .colab-df-container {\n",
       "      display:flex;\n",
       "      flex-wrap:wrap;\n",
       "      gap: 12px;\n",
       "    }\n",
       "\n",
       "    .colab-df-convert {\n",
       "      background-color: #E8F0FE;\n",
       "      border: none;\n",
       "      border-radius: 50%;\n",
       "      cursor: pointer;\n",
       "      display: none;\n",
       "      fill: #1967D2;\n",
       "      height: 32px;\n",
       "      padding: 0 0 0 0;\n",
       "      width: 32px;\n",
       "    }\n",
       "\n",
       "    .colab-df-convert:hover {\n",
       "      background-color: #E2EBFA;\n",
       "      box-shadow: 0px 1px 2px rgba(60, 64, 67, 0.3), 0px 1px 3px 1px rgba(60, 64, 67, 0.15);\n",
       "      fill: #174EA6;\n",
       "    }\n",
       "\n",
       "    [theme=dark] .colab-df-convert {\n",
       "      background-color: #3B4455;\n",
       "      fill: #D2E3FC;\n",
       "    }\n",
       "\n",
       "    [theme=dark] .colab-df-convert:hover {\n",
       "      background-color: #434B5C;\n",
       "      box-shadow: 0px 1px 3px 1px rgba(0, 0, 0, 0.15);\n",
       "      filter: drop-shadow(0px 1px 2px rgba(0, 0, 0, 0.3));\n",
       "      fill: #FFFFFF;\n",
       "    }\n",
       "  </style>\n",
       "\n",
       "      <script>\n",
       "        const buttonEl =\n",
       "          document.querySelector('#df-3ea832a0-02c3-44aa-a57d-0e95932e5cea button.colab-df-convert');\n",
       "        buttonEl.style.display =\n",
       "          google.colab.kernel.accessAllowed ? 'block' : 'none';\n",
       "\n",
       "        async function convertToInteractive(key) {\n",
       "          const element = document.querySelector('#df-3ea832a0-02c3-44aa-a57d-0e95932e5cea');\n",
       "          const dataTable =\n",
       "            await google.colab.kernel.invokeFunction('convertToInteractive',\n",
       "                                                     [key], {});\n",
       "          if (!dataTable) return;\n",
       "\n",
       "          const docLinkHtml = 'Like what you see? Visit the ' +\n",
       "            '<a target=\"_blank\" href=https://colab.research.google.com/notebooks/data_table.ipynb>data table notebook</a>'\n",
       "            + ' to learn more about interactive tables.';\n",
       "          element.innerHTML = '';\n",
       "          dataTable['output_type'] = 'display_data';\n",
       "          await google.colab.output.renderOutput(dataTable, element);\n",
       "          const docLink = document.createElement('div');\n",
       "          docLink.innerHTML = docLinkHtml;\n",
       "          element.appendChild(docLink);\n",
       "        }\n",
       "      </script>\n",
       "    </div>\n",
       "  </div>\n",
       "  "
      ],
      "text/plain": [
       "     Scores              Name\n",
       "1  0.389239  LinearRegression\n",
       "2  0.389256   RidgeRegression\n",
       "3  0.389470   LassoRegression\n",
       "4  0.380495      ElasticNetCV\n",
       "5  0.348095               SVM"
      ]
     },
     "execution_count": 503,
     "metadata": {},
     "output_type": "execute_result"
    }
   ],
   "source": [
    "M_scores = {'LinearRegression': lr_score, 'RidgeRegression': rr_score, 'LassoRegression':la_score, 'ElasticNetCV':ela_score, 'SVM': svm_score,}\n",
    "M_scores_df = pd.DataFrame(pd.Series(M_scores))\n",
    "M_scores_df.columns = ['Scores']\n",
    "M_scores_df['Name'] = ['LinearRegression', 'RidgeRegression', 'LassoRegression', 'ElasticNetCV', 'SVM']\n",
    "\n",
    "M_scores_df.set_index(pd.Index([1, 2, 3 , 4, 5]))\n"
   ]
  },
  {
   "cell_type": "code",
   "execution_count": null,
   "metadata": {
    "colab": {
     "base_uri": "https://localhost:8080/",
     "height": 442
    },
    "id": "74jZ8Ad6JMwm",
    "outputId": "afa18446-6a14-412f-fb79-d5d78cc290b8"
   },
   "outputs": [
    {
     "data": {
      "image/png": "[encoded data removed]",
      "text/plain": [
       "<Figure size 720x504 with 1 Axes>"
      ]
     },
     "metadata": {
      "needs_background": "light"
     },
     "output_type": "display_data"
    }
   ],
   "source": [
    "# Visualizaiton\n",
    "plt.figure(figsize=[10, 7])\n",
    "axis = sns.barplot(x = 'Name', y = 'Scores', data = M_scores_df, palette=\"BuPu_r\")\n",
    "axis.set(xlabel='Classifier', ylabel='Accuracy')\n",
    "for p in axis.patches:\n",
    "    height = p.get_height()\n",
    "    axis.text(p.get_x() + p.get_width()/2, height + 0.005, '{:1.4f}'.format(height), ha=\"center\") "
   ]
  },
  {
   "cell_type": "markdown",
   "metadata": {
    "id": "1y6mksxeOPtl"
   },
   "source": [
    "Therefore, we choose Lasso Regression as the final model."
   ]
  },
  {
   "cell_type": "markdown",
   "metadata": {
    "id": "N5C16C_xOkOd"
   },
   "source": [
    "# 5. Identify Top 10 Undervalued Projects"
   ]
  },
  {
   "cell_type": "code",
   "execution_count": null,
   "metadata": {
    "colab": {
     "base_uri": "https://localhost:8080/",
     "height": 363
    },
    "id": "ocyb6oX3JT9a",
    "outputId": "9528bf4e-5718-45bd-f507-f6c5ea6534dd"
   },
   "outputs": [
    {
     "data": {
      "text/html": [
       "\n",
       "  <div id=\"df-c7042592-db72-4fea-9606-61209e256d18\">\n",
       "    <div class=\"colab-df-container\">\n",
       "      <div>\n",
       "<style scoped>\n",
       "    .dataframe tbody tr th:only-of-type {\n",
       "        vertical-align: middle;\n",
       "    }\n",
       "\n",
       "    .dataframe tbody tr th {\n",
       "        vertical-align: top;\n",
       "    }\n",
       "\n",
       "    .dataframe thead th {\n",
       "        text-align: right;\n",
       "    }\n",
       "</style>\n",
       "<table border=\"1\" class=\"dataframe\">\n",
       "  <thead>\n",
       "    <tr style=\"text-align: right;\">\n",
       "      <th></th>\n",
       "      <th>ID</th>\n",
       "      <th>SQFTmain</th>\n",
       "      <th>Bedrooms</th>\n",
       "      <th>Bathrooms</th>\n",
       "      <th>Units</th>\n",
       "      <th>PropertyType</th>\n",
       "      <th>GeneralUseType</th>\n",
       "      <th>isTaxableParcel</th>\n",
       "      <th>AdministrativeRegion</th>\n",
       "      <th>netTaxableValue</th>\n",
       "      <th>EffectiveYear</th>\n",
       "    </tr>\n",
       "  </thead>\n",
       "  <tbody>\n",
       "    <tr>\n",
       "      <th>0</th>\n",
       "      <td>996035</td>\n",
       "      <td>4088.0</td>\n",
       "      <td>5</td>\n",
       "      <td>3</td>\n",
       "      <td>1</td>\n",
       "      <td>SFR</td>\n",
       "      <td>Residential</td>\n",
       "      <td>Y</td>\n",
       "      <td>07</td>\n",
       "      <td>15085235.0</td>\n",
       "      <td>52.0</td>\n",
       "    </tr>\n",
       "    <tr>\n",
       "      <th>1</th>\n",
       "      <td>940303</td>\n",
       "      <td>5777.0</td>\n",
       "      <td>4</td>\n",
       "      <td>8</td>\n",
       "      <td>1</td>\n",
       "      <td>SFR</td>\n",
       "      <td>Residential</td>\n",
       "      <td>Y</td>\n",
       "      <td>07</td>\n",
       "      <td>8251730.0</td>\n",
       "      <td>64.0</td>\n",
       "    </tr>\n",
       "    <tr>\n",
       "      <th>2</th>\n",
       "      <td>938997</td>\n",
       "      <td>2393.0</td>\n",
       "      <td>5</td>\n",
       "      <td>2</td>\n",
       "      <td>1</td>\n",
       "      <td>SFR</td>\n",
       "      <td>Residential</td>\n",
       "      <td>Y</td>\n",
       "      <td>07</td>\n",
       "      <td>2325724.0</td>\n",
       "      <td>84.0</td>\n",
       "    </tr>\n",
       "    <tr>\n",
       "      <th>3</th>\n",
       "      <td>890481</td>\n",
       "      <td>976.0</td>\n",
       "      <td>2</td>\n",
       "      <td>1</td>\n",
       "      <td>1</td>\n",
       "      <td>SFR</td>\n",
       "      <td>Residential</td>\n",
       "      <td>Y</td>\n",
       "      <td>07</td>\n",
       "      <td>1202328.0</td>\n",
       "      <td>94.0</td>\n",
       "    </tr>\n",
       "    <tr>\n",
       "      <th>4</th>\n",
       "      <td>2424277</td>\n",
       "      <td>2171.0</td>\n",
       "      <td>3</td>\n",
       "      <td>2</td>\n",
       "      <td>1</td>\n",
       "      <td>SFR</td>\n",
       "      <td>Residential</td>\n",
       "      <td>Y</td>\n",
       "      <td>09</td>\n",
       "      <td>2040000.0</td>\n",
       "      <td>91.0</td>\n",
       "    </tr>\n",
       "    <tr>\n",
       "      <th>5</th>\n",
       "      <td>976560</td>\n",
       "      <td>8633.0</td>\n",
       "      <td>6</td>\n",
       "      <td>7</td>\n",
       "      <td>1</td>\n",
       "      <td>SFR</td>\n",
       "      <td>Residential</td>\n",
       "      <td>Y</td>\n",
       "      <td>07</td>\n",
       "      <td>10298569.0</td>\n",
       "      <td>14.0</td>\n",
       "    </tr>\n",
       "    <tr>\n",
       "      <th>6</th>\n",
       "      <td>2451092</td>\n",
       "      <td>100.0</td>\n",
       "      <td>0</td>\n",
       "      <td>0</td>\n",
       "      <td>1</td>\n",
       "      <td>C/I</td>\n",
       "      <td>Commercial</td>\n",
       "      <td>Y</td>\n",
       "      <td>25</td>\n",
       "      <td>268490.0</td>\n",
       "      <td>22.0</td>\n",
       "    </tr>\n",
       "    <tr>\n",
       "      <th>7</th>\n",
       "      <td>957070</td>\n",
       "      <td>2970.0</td>\n",
       "      <td>4</td>\n",
       "      <td>4</td>\n",
       "      <td>1</td>\n",
       "      <td>SFR</td>\n",
       "      <td>Residential</td>\n",
       "      <td>Y</td>\n",
       "      <td>07</td>\n",
       "      <td>2988030.0</td>\n",
       "      <td>51.0</td>\n",
       "    </tr>\n",
       "    <tr>\n",
       "      <th>8</th>\n",
       "      <td>982428</td>\n",
       "      <td>2602.0</td>\n",
       "      <td>4</td>\n",
       "      <td>3</td>\n",
       "      <td>1</td>\n",
       "      <td>SFR</td>\n",
       "      <td>Residential</td>\n",
       "      <td>Y</td>\n",
       "      <td>07</td>\n",
       "      <td>2490158.0</td>\n",
       "      <td>47.0</td>\n",
       "    </tr>\n",
       "    <tr>\n",
       "      <th>9</th>\n",
       "      <td>925110</td>\n",
       "      <td>1488.0</td>\n",
       "      <td>2</td>\n",
       "      <td>3</td>\n",
       "      <td>1</td>\n",
       "      <td>SFR</td>\n",
       "      <td>Residential</td>\n",
       "      <td>Y</td>\n",
       "      <td>07</td>\n",
       "      <td>1433433.0</td>\n",
       "      <td>92.0</td>\n",
       "    </tr>\n",
       "  </tbody>\n",
       "</table>\n",
       "</div>\n",
       "      <button class=\"colab-df-convert\" onclick=\"convertToInteractive('df-c7042592-db72-4fea-9606-61209e256d18')\"\n",
       "              title=\"Convert this dataframe to an interactive table.\"\n",
       "              style=\"display:none;\">\n",
       "        \n",
       "  <svg xmlns=\"http://www.w3.org/2000/svg\" height=\"24px\"viewBox=\"0 0 24 24\"\n",
       "       width=\"24px\">\n",
       "    <path d=\"M0 0h24v24H0V0z\" fill=\"none\"/>\n",
       "    <path d=\"M18.56 5.44l.94 2.06.94-2.06 2.06-.94-2.06-.94-.94-2.06-.94 2.06-2.06.94zm-11 1L8.5 8.5l.94-2.06 2.06-.94-2.06-.94L8.5 2.5l-.94 2.06-2.06.94zm10 10l.94 2.06.94-2.06 2.06-.94-2.06-.94-.94-2.06-.94 2.06-2.06.94z\"/><path d=\"M17.41 7.96l-1.37-1.37c-.4-.4-.92-.59-1.43-.59-.52 0-1.04.2-1.43.59L10.3 9.45l-7.72 7.72c-.78.78-.78 2.05 0 2.83L4 21.41c.39.39.9.59 1.41.59.51 0 1.02-.2 1.41-.59l7.78-7.78 2.81-2.81c.8-.78.8-2.07 0-2.86zM5.41 20L4 18.59l7.72-7.72 1.47 1.35L5.41 20z\"/>\n",
       "  </svg>\n",
       "      </button>\n",
       "      \n",
       "  <style>\n",
       "    .colab-df-container {\n",
       "      display:flex;\n",
       "      flex-wrap:wrap;\n",
       "      gap: 12px;\n",
       "    }\n",
       "\n",
       "    .colab-df-convert {\n",
       "      background-color: #E8F0FE;\n",
       "      border: none;\n",
       "      border-radius: 50%;\n",
       "      cursor: pointer;\n",
       "      display: none;\n",
       "      fill: #1967D2;\n",
       "      height: 32px;\n",
       "      padding: 0 0 0 0;\n",
       "      width: 32px;\n",
       "    }\n",
       "\n",
       "    .colab-df-convert:hover {\n",
       "      background-color: #E2EBFA;\n",
       "      box-shadow: 0px 1px 2px rgba(60, 64, 67, 0.3), 0px 1px 3px 1px rgba(60, 64, 67, 0.15);\n",
       "      fill: #174EA6;\n",
       "    }\n",
       "\n",
       "    [theme=dark] .colab-df-convert {\n",
       "      background-color: #3B4455;\n",
       "      fill: #D2E3FC;\n",
       "    }\n",
       "\n",
       "    [theme=dark] .colab-df-convert:hover {\n",
       "      background-color: #434B5C;\n",
       "      box-shadow: 0px 1px 3px 1px rgba(0, 0, 0, 0.15);\n",
       "      filter: drop-shadow(0px 1px 2px rgba(0, 0, 0, 0.3));\n",
       "      fill: #FFFFFF;\n",
       "    }\n",
       "  </style>\n",
       "\n",
       "      <script>\n",
       "        const buttonEl =\n",
       "          document.querySelector('#df-c7042592-db72-4fea-9606-61209e256d18 button.colab-df-convert');\n",
       "        buttonEl.style.display =\n",
       "          google.colab.kernel.accessAllowed ? 'block' : 'none';\n",
       "\n",
       "        async function convertToInteractive(key) {\n",
       "          const element = document.querySelector('#df-c7042592-db72-4fea-9606-61209e256d18');\n",
       "          const dataTable =\n",
       "            await google.colab.kernel.invokeFunction('convertToInteractive',\n",
       "                                                     [key], {});\n",
       "          if (!dataTable) return;\n",
       "\n",
       "          const docLinkHtml = 'Like what you see? Visit the ' +\n",
       "            '<a target=\"_blank\" href=https://colab.research.google.com/notebooks/data_table.ipynb>data table notebook</a>'\n",
       "            + ' to learn more about interactive tables.';\n",
       "          element.innerHTML = '';\n",
       "          dataTable['output_type'] = 'display_data';\n",
       "          await google.colab.output.renderOutput(dataTable, element);\n",
       "          const docLink = document.createElement('div');\n",
       "          docLink.innerHTML = docLinkHtml;\n",
       "          element.appendChild(docLink);\n",
       "        }\n",
       "      </script>\n",
       "    </div>\n",
       "  </div>\n",
       "  "
      ],
      "text/plain": [
       "        ID SQFTmain Bedrooms Bathrooms Units PropertyType GeneralUseType  \\\n",
       "0   996035   4088.0        5         3     1          SFR    Residential   \n",
       "1   940303   5777.0        4         8     1          SFR    Residential   \n",
       "2   938997   2393.0        5         2     1          SFR    Residential   \n",
       "3   890481    976.0        2         1     1          SFR    Residential   \n",
       "4  2424277   2171.0        3         2     1          SFR    Residential   \n",
       "5   976560   8633.0        6         7     1          SFR    Residential   \n",
       "6  2451092    100.0        0         0     1          C/I     Commercial   \n",
       "7   957070   2970.0        4         4     1          SFR    Residential   \n",
       "8   982428   2602.0        4         3     1          SFR    Residential   \n",
       "9   925110   1488.0        2         3     1          SFR    Residential   \n",
       "\n",
       "  isTaxableParcel AdministrativeRegion netTaxableValue EffectiveYear  \n",
       "0               Y                   07      15085235.0          52.0  \n",
       "1               Y                   07       8251730.0          64.0  \n",
       "2               Y                   07       2325724.0          84.0  \n",
       "3               Y                   07       1202328.0          94.0  \n",
       "4               Y                   09       2040000.0          91.0  \n",
       "5               Y                   07      10298569.0          14.0  \n",
       "6               Y                   25        268490.0          22.0  \n",
       "7               Y                   07       2988030.0          51.0  \n",
       "8               Y                   07       2490158.0          47.0  \n",
       "9               Y                   07       1433433.0          92.0  "
      ]
     },
     "execution_count": 515,
     "metadata": {},
     "output_type": "execute_result"
    }
   ],
   "source": [
    "# creat a table to list errors\n",
    "err = pd.DataFrame(columns = ['y_test', 'y_pred'])\n",
    "err['y_test'] = y_test\n",
    "err['y_pred'] = predictions_la\n",
    "err['undervalue'] = err['y_test'] - err['y_pred']\n",
    "\n",
    "# TEN testing samples which received the largest positive errors\n",
    "err_top = pd.DataFrame()\n",
    "err_top = err.sort_values(by='undervalue', ascending = False)[0:10]\n",
    "\n",
    "df = dataset[['ID', 'SQFTmain',\t'Bedrooms',\t'Bathrooms',\t'Units',\t'PropertyType',\t\n",
    "             'GeneralUseType',\t'isTaxableParcel', 'AdministrativeRegion',\t'netTaxableValue',\t'EffectiveYear']]\n",
    "# use top 10 index to find the features\n",
    "feature = pd.DataFrame(df.values[err_top.index],\n",
    "                       columns=(['ID', 'SQFTmain',\t'Bedrooms',\t'Bathrooms',\t'Units',\t'PropertyType',\t\n",
    "                                'GeneralUseType',\t'isTaxableParcel', 'AdministrativeRegion',\t'netTaxableValue',\t'EffectiveYear']))\n",
    "feature"
   ]
  },
  {
   "cell_type": "code",
   "execution_count": null,
   "metadata": {
    "id": "GTIenZz1Urz1"
   },
   "outputs": [],
   "source": []
  }
 ],
 "metadata": {
  "colab": {
   "collapsed_sections": [],
   "name": "445 project.ipynb",
   "provenance": []
  },
  "kernelspec": {
   "display_name": "Python 3 (ipykernel)",
   "language": "python",
   "name": "python3"
  },
  "language_info": {
   "codemirror_mode": {
    "name": "ipython",
    "version": 3
   },
   "file_extension": ".py",
   "mimetype": "text/x-python",
   "name": "python",
   "nbconvert_exporter": "python",
   "pygments_lexer": "ipython3",
   "version": "3.9.7"
  }
 },
 "nbformat": 4,
 "nbformat_minor": 1
}
